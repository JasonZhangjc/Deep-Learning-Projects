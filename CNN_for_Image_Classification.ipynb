{
 "cells": [
  {
   "cell_type": "markdown",
   "metadata": {
    "id": "oz9MhPEUMrkC"
   },
   "source": [
    "# Designing and Tuning a Convolutional Neural Network (CNN)\n",
    "\n",
    "**Project Description**: There are four parts to this project\n",
    "\n",
    "1.   Building a CNN\n",
    "2.   Training and Tuning a CNN\n",
    "3.   Trying Out a New Dataset\n",
    "4.   Open-Ended Exploration"
   ]
  },
  {
   "cell_type": "code",
   "execution_count": null,
   "metadata": {
    "id": "jHvVs2GqXxNF"
   },
   "outputs": [],
   "source": [
    "#Install Objax\n",
    "!pip --quiet install  objax\n",
    "import objax"
   ]
  },
  {
   "cell_type": "code",
   "execution_count": null,
   "metadata": {
    "id": "xqQf8f2RBDcx"
   },
   "outputs": [],
   "source": [
    "import tensorflow as tf \n",
    "import tensorflow_datasets as tfds\n",
    "import numpy as np\n",
    "import jax.numpy as jn\n",
    "import random \n",
    "import matplotlib.pyplot as plt"
   ]
  },
  {
   "cell_type": "markdown",
   "metadata": {
    "id": "w_7vcWRFO39r"
   },
   "source": [
    "##**Part 1. Building a CNN** \n",
    "\n",
    "Before we build our CNN model, let's first import a dataset. For our experiment, we load the CIFAR10 dataset from Tensorflow's dataset repository. The CIFAR10 dataset consists of 60,000 32x32 colour images in 10 classes, with 6000 images per class. The 10 different classes represent airplanes, cars, birds, cats, deer, dogs, frogs, horses, ships, and trucks.\n",
    "\n",
    "After loading the dataset, we split the dataset into training, validation and test set. The dataset is originally stored as 50,000 training examples and 10,000 test examples. Instead, we will combine them together and make our own split.\n",
    "\n",
    "Do not change split ratio for now."
   ]
  },
  {
   "cell_type": "code",
   "execution_count": null,
   "metadata": {
    "colab": {
     "base_uri": "https://localhost:8080/"
    },
    "id": "e5VQDzs1XodT",
    "outputId": "e30d98d9-e045-4b06-f406-758d463ad416"
   },
   "outputs": [
    {
     "name": "stdout",
     "output_type": "stream",
     "text": [
      "The length of the entire dataset is:, 60000\n",
      "The length of X_train is:, 48000\n",
      "The length of X_valid is:, 6000\n",
      "The length of X_test is:, 6000\n",
      "1500.0\n",
      "45000.0\n"
     ]
    }
   ],
   "source": [
    "#.load_data() by default returns a split between training and test set. \n",
    "# We then adjust the training set into a format that can be accepted by our CNN\n",
    "(X_train, Y_train), (X_test, Y_test) = tf.keras.datasets.cifar10.load_data()\n",
    "X_train = X_train.transpose(0, 3, 1, 2) / 255.0         #Looks like RGB\n",
    "Y_train = Y_train.flatten()\n",
    "X_test = X_test.transpose(0, 3, 1, 2) / 255.0\n",
    "Y_test = Y_test.flatten()\n",
    "\n",
    "np.random.seed(1)\n",
    "# To create a validation set, we first concate the original splitted dataset into a single dataset \n",
    "# then randomly shuffle the images and labels in the same way (seed = 1)\n",
    "X_data = np.concatenate([X_train, X_test], axis = 0)\n",
    "Y_data = np.concatenate([Y_train, Y_test], axis = 0)\n",
    "\n",
    "print('The length of the entire dataset is:,', len(X_data))\n",
    "N = np.arange(len(X_data))\n",
    "np.random.shuffle(N)\n",
    "X_data = X_data[N]\n",
    "Y_data = Y_data[N]\n",
    "\n",
    "#Next, we partition the randomly shuffled dataset into training, validation and testset according a ratio\n",
    "train_ratio = 0.80\n",
    "valid_ratio = 0.1\n",
    "n_train = int(len(X_data) * train_ratio)\n",
    "n_valid = int(len(X_data) * valid_ratio)\n",
    "\n",
    "X_train, X_valid, X_test = X_data[:n_train], X_data[n_train:n_train+n_valid], X_data[n_train+n_valid:]\n",
    "Y_train, Y_valid, Y_test = Y_data[:n_train], Y_data[n_train:n_train+n_valid], Y_data[n_train+n_valid:]\n",
    "print('The length of X_train is:,', len(X_train))\n",
    "print('The length of X_valid is:,', len(X_valid))\n",
    "print('The length of X_test is:,', len(X_test))\n",
    "print(len(X_train)/32)\n",
    "print(len(X_train)/32*30)"
   ]
  },
  {
   "cell_type": "code",
   "execution_count": null,
   "metadata": {
    "colab": {
     "base_uri": "https://localhost:8080/"
    },
    "id": "ocTsnLMsnZ-0",
    "outputId": "576c54c5-802f-45ff-b611-980547d35b91"
   },
   "outputs": [
    {
     "name": "stdout",
     "output_type": "stream",
     "text": [
      "3\n",
      "32\n",
      "32\n",
      "The shape of the training data is: (48000, 3, 32, 32)\n",
      "The shape of the training labels is: (48000,)\n"
     ]
    }
   ],
   "source": [
    "#32x32 RGB\n",
    "print(len(X_train[0]))\n",
    "print(len(X_train[0][0]))\n",
    "print(len(X_train[0][0][0]))\n",
    "print(\"The shape of the training data is:\", np.shape(X_train))\n",
    "print(\"The shape of the training labels is:\", np.shape(Y_train))"
   ]
  },
  {
   "cell_type": "markdown",
   "metadata": {
    "id": "szDmexFGT7Qs"
   },
   "source": [
    "\n",
    "Next we will construct a **Base Model**, which in our case is a small CNN."
   ]
  },
  {
   "cell_type": "code",
   "execution_count": null,
   "metadata": {
    "colab": {
     "base_uri": "https://localhost:8080/"
    },
    "id": "_Eeh6jvfBV4p",
    "outputId": "3b0e489d-ed48-499f-f419-952625c6a708"
   },
   "outputs": [
    {
     "data": {
      "text/plain": [
       "{'(ConvNet).conv_1(Sequential)[0](Conv2D).b': <objax.variable.TrainVar at 0x7fe7c40a55f8>,\n",
       " '(ConvNet).conv_1(Sequential)[0](Conv2D).w': <objax.variable.TrainVar at 0x7fe80ee386d8>,\n",
       " '(ConvNet).conv_2(Sequential)[0](Conv2D).b': <objax.variable.TrainVar at 0x7fe7aa279470>,\n",
       " '(ConvNet).conv_2(Sequential)[0](Conv2D).w': <objax.variable.TrainVar at 0x7fe7aa279588>,\n",
       " '(ConvNet).linear(Linear).b': <objax.variable.TrainVar at 0x7fe7aa281860>,\n",
       " '(ConvNet).linear(Linear).w': <objax.variable.TrainVar at 0x7fe7aa281710>}"
      ]
     },
     "execution_count": 5,
     "metadata": {
      "tags": []
     },
     "output_type": "execute_result"
    }
   ],
   "source": [
    "class ConvNet(objax.Module):\n",
    "    def __init__(self, number_of_channels = 3, number_of_classes = 10):\n",
    "        self.conv_1 = objax.nn.Sequential([objax.nn.Conv2D(number_of_channels, 16, 2), objax.functional.relu])\n",
    "        self.conv_2 = objax.nn.Sequential([objax.nn.Conv2D(16, 32, 2), objax.functional.relu])\n",
    "        self.linear = objax.nn.Linear(32, number_of_classes)\n",
    "\n",
    "    def __call__(self, x):\n",
    "        x = objax.functional.max_pool_2d(self.conv_1(x), 2, 2)\n",
    "        x = self.conv_2(x)\n",
    "\n",
    "        x = x.mean((2,3)) #<--- global average pooling \n",
    "        x = self.linear(x)\n",
    "        return x\n",
    "\n",
    "#The following line creates the CNN\n",
    "model = ConvNet()\n",
    "#You can examine the architecture of our CNN by calling model.vars()\n",
    "model.vars()"
   ]
  },
  {
   "cell_type": "markdown",
   "metadata": {
    "id": "Crz2dQZBds89"
   },
   "source": [
    "Before we train our conv net, let's try to better understand concepts of convolution filter and linear layer. In the following, you will take the first very image of the training set, create a simple convolution routine, and show that our own routine matches what Objax returns. \n",
    "\n"
   ]
  },
  {
   "cell_type": "code",
   "execution_count": null,
   "metadata": {
    "colab": {
     "base_uri": "https://localhost:8080/",
     "height": 283
    },
    "id": "Epa7ETf6XddH",
    "outputId": "1ffabdb6-db07-4e68-eb0a-6bafbd480264"
   },
   "outputs": [
    {
     "data": {
      "text/plain": [
       "<matplotlib.image.AxesImage at 0x7fe7aa1fc128>"
      ]
     },
     "execution_count": 6,
     "metadata": {
      "tags": []
     },
     "output_type": "execute_result"
    },
    {
     "data": {
      "image/png": "[encoded data removed]",
      "text/plain": [
       "<Figure size 432x288 with 1 Axes>"
      ]
     },
     "metadata": {
      "needs_background": "light",
      "tags": []
     },
     "output_type": "display_data"
    }
   ],
   "source": [
    "#Plot the first image in the training set.\n",
    "plt.imshow(X_train[0].transpose(1,2,0))"
   ]
  },
  {
   "cell_type": "markdown",
   "metadata": {
    "id": "PQjS06vgXZ7r"
   },
   "source": [
    "Next, we will pass our image through Objax's convolution routine. Carefully examine the following code and try to understand the dimension of the filter weights and the output. "
   ]
  },
  {
   "cell_type": "code",
   "execution_count": null,
   "metadata": {
    "colab": {
     "base_uri": "https://localhost:8080/"
    },
    "id": "vFBbJHBpXXUc",
    "outputId": "f138e874-f291-4ef4-b686-c5901649a996"
   },
   "outputs": [
    {
     "name": "stdout",
     "output_type": "stream",
     "text": [
      "Conv input shape: (1, 3, 32, 32)\n",
      "Filter weights: [[[[ 0.7304995   0.6803058 ]\n",
      "   [-1.0113425  -0.19040492]\n",
      "   [-0.3848219   0.6740011 ]]]]\n",
      "Conv output: [[[[-0.10271908 -0.10010862 -0.09076816 ... -0.7420423  -0.73912483\n",
      "    -0.7374622 ]\n",
      "   [-0.12882358 -0.11180528 -0.11687267 ... -0.73105437 -0.7434611\n",
      "    -0.7408506 ]\n",
      "   [-0.13143402 -0.11577132 -0.12992492 ... -0.6991137  -0.7174033\n",
      "    -0.7156083 ]\n",
      "   ...\n",
      "   [-0.11485983 -0.10963893 -0.10963893 ... -0.11178758 -0.11439803\n",
      "    -0.12222939]\n",
      "   [-0.09658667 -0.09136578 -0.09136578 ... -0.1274503  -0.12483985\n",
      "    -0.12483985]\n",
      "   [-0.08614487 -0.08353443 -0.08614487 ... -0.16399662 -0.16138618\n",
      "    -0.15355481]]\n",
      "\n",
      "  [[ 0.10279882  0.0982345   0.08189839 ...  0.75253254  0.7320599\n",
      "     0.7214626 ]\n",
      "   [ 0.14844204  0.1263671   0.1275416  ...  0.77934486  0.7626404\n",
      "     0.7580761 ]\n",
      "   [ 0.15300636  0.12562042  0.15036322 ...  0.79253834  0.77845234\n",
      "     0.775332  ]\n",
      "   ...\n",
      "   [ 0.20083015  0.1917015   0.1917015  ...  0.27218536  0.27674967\n",
      "     0.29044265]\n",
      "   [ 0.1688799   0.15975127  0.15975127 ...  0.29957128  0.29500696\n",
      "     0.29500696]\n",
      "   [ 0.15062262  0.14605829  0.15062262 ...  0.36347178  0.35890746\n",
      "     0.3452145 ]]]]\n",
      "Conv output shape: (1, 2, 32, 32)\n"
     ]
    }
   ],
   "source": [
    "# We append the first image with a batch size of 1 so it can be fed into a convolution layer\n",
    "my_image = np.expand_dims(X_train[0], 0)\n",
    "#32x32 RGB\n",
    "print(\"Conv input shape:\", np.shape(my_image))\n",
    "\n",
    "#Consider a very simple CNN filter with stride = 1 and no padding ('VALID').\n",
    "Conv2d = objax.nn.Conv2D(nin = 3, nout = 2, k = 1, strides = 1, padding = 'VALID', use_bias = False)\n",
    "\n",
    "filter_weights = Conv2d.w.value #This is the initial weight of the filter, which we gradually update when training, we ignore bias for now\n",
    "\n",
    "conv_output = Conv2d(my_image)\n",
    "print(\"Filter weights:\", filter_weights)\n",
    "print(\"Conv output:\", conv_output)\n",
    "print(\"Conv output shape:\", np.shape(Conv2d(my_image)))"
   ]
  },
  {
   "cell_type": "code",
   "execution_count": null,
   "metadata": {
    "colab": {
     "base_uri": "https://localhost:8080/"
    },
    "id": "1JRBeuKBcUQT",
    "outputId": "eae24e70-d9c3-45de-d01e-bc43f526e0b3"
   },
   "outputs": [
    {
     "name": "stdout",
     "output_type": "stream",
     "text": [
      "The filter weights passed to <my_conv_net> is:\n",
      " [[ 0.7304995   0.6803058 ]\n",
      " [-1.0113425  -0.19040492]\n",
      " [-0.3848219   0.6740011 ]]\n",
      "The shape is: (3, 2)\n"
     ]
    }
   ],
   "source": [
    "print('The filter weights passed to <my_conv_net> is:\\n', filter_weights[0][0])\n",
    "print('The shape is:', np.shape(filter_weights[0][0]))"
   ]
  },
  {
   "cell_type": "markdown",
   "metadata": {
    "id": "KsDg8yateSuH"
   },
   "source": [
    "**In the cells below, we will create our own convolution routine that takes in the image and the initial weights used by Objax's own convolution routine (Conv2d.w.value) and show that our convolution routine returns the same value than Objax's.**\n",
    "\n",
    "A simple implementation only requires 4 FOR loops. Draw inspiration from https://objax.readthedocs.io/en/latest/objax/nn.html?highlight=objax.nn.Conv2D#objax.nn.Conv2D"
   ]
  },
  {
   "cell_type": "code",
   "execution_count": null,
   "metadata": {
    "id": "f5B6K9gyXTAx"
   },
   "outputs": [],
   "source": [
    "def my_conv_net(my_image, initial_filter_weights):\n",
    "    C_in, C_out = np.shape(initial_filter_weights)\n",
    "    N, C_in, H, W = np.shape(my_image)\n",
    "    my_conv_output = np.zeros((N, C_out, H, W))\n",
    "    for c in range(C_out):\n",
    "        for h in range(H):\n",
    "            for w in range(W):\n",
    "                #bias is ignored!\n",
    "                for t in range(C_in):\n",
    "                    my_conv_output[0, c, h, w] += my_image[0, t, h, w] * initial_filter_weights[t, c]\n",
    "\n",
    "    return my_conv_output"
   ]
  },
  {
   "cell_type": "code",
   "execution_count": null,
   "metadata": {
    "colab": {
     "base_uri": "https://localhost:8080/"
    },
    "id": "sF10iCDPq5mX",
    "outputId": "80e06fb2-b497-40a4-9a35-08f72d982b94"
   },
   "outputs": [
    {
     "name": "stdout",
     "output_type": "stream",
     "text": [
      "My conv output: [[[[-0.10271907 -0.10010862 -0.09076816 ... -0.7420423  -0.73912489\n",
      "    -0.73746228]\n",
      "   [-0.12882358 -0.11180527 -0.11687266 ... -0.73105443 -0.74346107\n",
      "    -0.74085063]\n",
      "   [-0.13143402 -0.11577132 -0.12992492 ... -0.69911373 -0.71740329\n",
      "    -0.71560836]\n",
      "   ...\n",
      "   [-0.11485984 -0.10963892 -0.10963892 ... -0.11178758 -0.11439803\n",
      "    -0.12222938]\n",
      "   [-0.09658667 -0.09136577 -0.09136577 ... -0.12745032 -0.12483985\n",
      "    -0.12483985]\n",
      "   [-0.08614486 -0.08353443 -0.08614486 ... -0.16399662 -0.16138616\n",
      "    -0.15355483]]\n",
      "\n",
      "  [[ 0.10279882  0.09823449  0.08189839 ...  0.75253248  0.7320599\n",
      "     0.72146261]\n",
      "   [ 0.14844204  0.12636711  0.1275416  ...  0.7793448   0.76264036\n",
      "     0.75807607]\n",
      "   [ 0.15300636  0.12562042  0.15036322 ...  0.7925384   0.7784524\n",
      "     0.77533197]\n",
      "   ...\n",
      "   [ 0.20083013  0.1917015   0.1917015  ...  0.27218536  0.27674967\n",
      "     0.29044265]\n",
      "   [ 0.1688799   0.15975127  0.15975127 ...  0.29957128  0.29500696\n",
      "     0.29500696]\n",
      "   [ 0.15062262  0.14605829  0.15062262 ...  0.36347181  0.35890746\n",
      "     0.34521449]]]]\n",
      "objax conv output: [[[[-0.10271908 -0.10010862 -0.09076816 ... -0.7420423  -0.73912483\n",
      "    -0.7374622 ]\n",
      "   [-0.12882358 -0.11180528 -0.11687267 ... -0.73105437 -0.7434611\n",
      "    -0.7408506 ]\n",
      "   [-0.13143402 -0.11577132 -0.12992492 ... -0.6991137  -0.7174033\n",
      "    -0.7156083 ]\n",
      "   ...\n",
      "   [-0.11485983 -0.10963893 -0.10963893 ... -0.11178758 -0.11439803\n",
      "    -0.12222939]\n",
      "   [-0.09658667 -0.09136578 -0.09136578 ... -0.1274503  -0.12483985\n",
      "    -0.12483985]\n",
      "   [-0.08614487 -0.08353443 -0.08614487 ... -0.16399662 -0.16138618\n",
      "    -0.15355481]]\n",
      "\n",
      "  [[ 0.10279882  0.0982345   0.08189839 ...  0.75253254  0.7320599\n",
      "     0.7214626 ]\n",
      "   [ 0.14844204  0.1263671   0.1275416  ...  0.77934486  0.7626404\n",
      "     0.7580761 ]\n",
      "   [ 0.15300636  0.12562042  0.15036322 ...  0.79253834  0.77845234\n",
      "     0.775332  ]\n",
      "   ...\n",
      "   [ 0.20083015  0.1917015   0.1917015  ...  0.27218536  0.27674967\n",
      "     0.29044265]\n",
      "   [ 0.1688799   0.15975127  0.15975127 ...  0.29957128  0.29500696\n",
      "     0.29500696]\n",
      "   [ 0.15062262  0.14605829  0.15062262 ...  0.36347178  0.35890746\n",
      "     0.3452145 ]]]]\n"
     ]
    }
   ],
   "source": [
    "my_conv_output = my_conv_net(my_image, filter_weights[0][0])\n",
    "print(\"My conv output:\", my_conv_output)\n",
    "print(\"objax conv output:\", conv_output)"
   ]
  },
  {
   "cell_type": "code",
   "execution_count": null,
   "metadata": {
    "id": "Z-SMUCOuvQME"
   },
   "outputs": [],
   "source": [
    "N, C_out, H, W = np.shape(my_conv_output)\n",
    "class Getoutofloop(Exception):\n",
    "    pass\n",
    "try:\n",
    "    for c in range(C_out):\n",
    "        for h in range(H):\n",
    "            for w in range(W):\n",
    "                if np.abs(my_conv_output[0,c,h,w]-conv_output[0,c,h,w]) >= 0.0001:\n",
    "                    raise Getoutofloop()\n",
    "except Getoutofloop:\n",
    "    print('\\nThe outputs are not not 100% the same!')\n",
    "    pass"
   ]
  },
  {
   "cell_type": "markdown",
   "metadata": {
    "id": "d9dbovOwiVDE"
   },
   "source": [
    "The outputs of last convolution layer is typically rearranged so it can be fed into a linear layer. Check that calling .mean((2,3)) rearranges the output of your convolution routine by examining the shape of the output. (Not graded) Think about alternative ways of rearranging the output from the convolution layer. "
   ]
  },
  {
   "cell_type": "code",
   "execution_count": null,
   "metadata": {
    "colab": {
     "base_uri": "https://localhost:8080/"
    },
    "id": "q7hngIUNXIMQ",
    "outputId": "fa00e8d3-2ef3-4e69-f218-51a7b604364e"
   },
   "outputs": [
    {
     "name": "stdout",
     "output_type": "stream",
     "text": [
      "The rearranged conv output is: [[-0.1400071   0.35388903]]\n"
     ]
    }
   ],
   "source": [
    "#Check that .mean((2,3)) rearranges your image\n",
    "linear_input = my_conv_output.mean((2,3))\n",
    "print(\"The rearranged conv output is:\", linear_input)"
   ]
  },
  {
   "cell_type": "markdown",
   "metadata": {
    "id": "xTWfvL0mis3D"
   },
   "source": [
    "Take your rearranged output and feed it into a linear layer of appropriate size. Here is an example:\n",
    "\n",
    "```\n",
    "Linear_Layer = objax.nn.Linear(N, 1)\n",
    "Y = Linear_Layer(X)\n",
    "```\n",
    "Next, extract the weights and bias of the linear layer using \n",
    "```\n",
    "Linear_Layer.w.value\n",
    "Linear_Layer.b.value\n",
    "```\n",
    "**Using these values, write one line of code that manually implements the linear layer. Show that it provides the same value as Objax's own linear layer.** \n",
    "\n"
   ]
  },
  {
   "cell_type": "code",
   "execution_count": null,
   "metadata": {
    "colab": {
     "base_uri": "https://localhost:8080/"
    },
    "id": "b_mTvMRoyg-k",
    "outputId": "c222ed2a-cbf1-4c26-eee1-06ed23d1228e"
   },
   "outputs": [
    {
     "name": "stdout",
     "output_type": "stream",
     "text": [
      "The length of linear input is: 2\n",
      "Objax linear output is: [[0.03471544]]\n",
      "The weights of Objax linear layer are:\n",
      " [[0.74953187]\n",
      " [0.39463   ]]\n",
      "The bias of Objax linear layer is: [0.]\n"
     ]
    }
   ],
   "source": [
    "#RUN OBJAX LINEAR LAYER FIRST\n",
    "linear_input_length = np.shape(linear_input)[1]\n",
    "print(\"The length of linear input is:\", linear_input_length)\n",
    "Linear_Layer = objax.nn.Linear(linear_input_length, 1)\n",
    "linear_output = Linear_Layer(linear_input)\n",
    "print(\"Objax linear output is:\", linear_output)\n",
    "\n",
    "linear_weight = Linear_Layer.w.value\n",
    "linear_bias = Linear_Layer.b.value\n",
    "print(\"The weights of Objax linear layer are:\\n\", linear_weight)\n",
    "print(\"The bias of Objax linear layer is:\", linear_bias)"
   ]
  },
  {
   "cell_type": "code",
   "execution_count": null,
   "metadata": {
    "colab": {
     "base_uri": "https://localhost:8080/"
    },
    "id": "Uq-TkFpgXDC7",
    "outputId": "e26bc904-99c7-42f4-c8e1-8bea469407e9"
   },
   "outputs": [
    {
     "name": "stdout",
     "output_type": "stream",
     "text": [
      "My linear output is: [[0.03471545]]\n"
     ]
    }
   ],
   "source": [
    "#PUT YOUR CODE HERE\n",
    "#A silly way of doing it:\n",
    "# my_linear_output = linear_weight[0,0]*linear_input[0,0] + linear_weight[1,0]*linear_input[0,1] + linear_bias[0]\n",
    "#One line of code for this question:\n",
    "my_linear_output = linear_input.dot(linear_weight) + linear_bias[0]\n",
    "print(\"My linear output is:\", my_linear_output)"
   ]
  },
  {
   "cell_type": "markdown",
   "metadata": {
    "id": "2kqaH75UUaSE"
   },
   "source": [
    "##**Part 2. Training and Tuning a CNN**\n",
    "\n",
    "The following starter code trains the neural network in Part 1. However, the optimizer and batch sampling routine are left for you to implement.\n",
    "\n",
    "Afterwards, train the model, and observe the training/validation loss and accuracy plots. You should observe that the validation accuracy is low and stagnates after a few epochs."
   ]
  },
  {
   "cell_type": "code",
   "execution_count": null,
   "metadata": {
    "id": "zBcHWoCl0URZ"
   },
   "outputs": [],
   "source": [
    "#Define loss function as averaged value of of cross entropies\n",
    "#labels=targets\n",
    "#logit=output of the Base Model: CNN\n",
    "def loss_function(x, labels):\n",
    "    logit = model(x)\n",
    "    return objax.functional.loss.cross_entropy_logits_sparse(logit, labels).mean()\n",
    "\n",
    "#Define a prediction function\n",
    "#softmax(logit)\n",
    "predict = objax.Jit(lambda x: objax.functional.softmax(model(x)), model.vars()) \n",
    "\n",
    "#Create an object that can be used to calculate the gradient and value of loss_function\n",
    "gv= objax.GradValues(loss_function, model.vars())\n",
    "\n",
    "#Create an object that can be used to provide trainable variables in the model\n",
    "tv = objax.ModuleList(objax.TrainRef(x) for x in model.vars().subset(objax.TrainVar))\n",
    "\n",
    "#Training routine\n",
    "#x:data points, y:label?\n",
    "def train_op(x, y, learning_rate):\n",
    "    lr = learning_rate\n",
    "    gradient, loss_value = gv(x, y)   # calculate gradient and loss value \"backprop\"\n",
    "    #next we update the trainable parameter using SGD and similar procedure\n",
    "    for grad, params in zip(gradient, tv.vars()):\n",
    "        params.assign(params.value - lr*grad)                    \n",
    "    return loss_value                      # return loss value\n",
    "\n",
    "#make train_op (much) faster using JIT compilation\n",
    "train_op = objax.Jit(train_op, gv.vars() + tv.vars())"
   ]
  },
  {
   "cell_type": "code",
   "execution_count": null,
   "metadata": {
    "id": "hGPpVTfG0Ug1"
   },
   "outputs": [],
   "source": [
    "def train(EPOCHS = 20, BATCH = 32, LEARNING_RATE = 9e-4):\n",
    "    avg_train_loss_epoch = []\n",
    "    avg_val_loss_epoch = []\n",
    "    train_acc_epoch = []\n",
    "    val_acc_epoch = []\n",
    "\n",
    "    for epoch in range(EPOCHS):\n",
    "        avg_train_loss = 0 # (averaged) training loss per batch\n",
    "        avg_val_loss =  0  # (averaged) validation loss per batch\n",
    "        train_acc = 0      # training accuracy per batch\n",
    "        val_acc = 0        # validation accuracy per batch\n",
    "\n",
    "        # shuffle the examples prior to training to remove correlation \n",
    "        train_indices = np.arange(len(X_train)) \n",
    "        np.random.shuffle(train_indices)\n",
    "        for it in range(0, X_train.shape[0], BATCH):\n",
    "            if it+BATCH > X_train.shape[0]: #In case the size of training set is not divisible by BATCH\n",
    "                BATCH = X_train.shape[0]-it\n",
    "            batch = train_indices[np.arange(it, it+BATCH)] #PUT YOUR CODE HERE#\n",
    "            avg_train_loss += float(train_op(X_train[batch], Y_train[batch], LEARNING_RATE)[0]) * len(batch)\n",
    "            train_prediction = predict(X_train[batch]).argmax(1)\n",
    "            train_acc += (np.array(train_prediction).flatten() == Y_train[batch]).sum()\n",
    "        train_acc_epoch.append(train_acc/X_train.shape[0])\n",
    "        avg_train_loss_epoch.append(avg_train_loss/X_train.shape[0])\n",
    "\n",
    "        # run validation\n",
    "        val_indices = np.arange(len(X_valid)) \n",
    "        np.random.shuffle(val_indices)    \n",
    "        for it in range(0, X_valid.shape[0], BATCH):\n",
    "            if it+BATCH > X_valid.shape[0]: #In case the size of validation set is not divisible by BATCH\n",
    "                BATCH = X_valid.shape[0]-it\n",
    "            batch = val_indices[np.arange(it, it+BATCH)] #PUT YOUR CODE HERE#\n",
    "            avg_val_loss += float(loss_function(X_valid[batch], Y_valid[batch])) * len(batch)\n",
    "            val_prediction = predict(X_valid[batch]).argmax(1)\n",
    "            val_acc += (np.array(val_prediction).flatten() == Y_valid[batch]).sum()\n",
    "        val_acc_epoch.append(val_acc/X_valid.shape[0])\n",
    "        avg_val_loss_epoch.append(avg_val_loss/X_valid.shape[0])\n",
    "\n",
    "        print('Epoch %04d  Training Loss %.2f Validation Loss %.2f Training Accuracy %.2f Validation Accuracy %.2f' % (epoch + 1, avg_train_loss/X_train.shape[0], avg_val_loss/X_valid.shape[0], 100*train_acc/X_train.shape[0], 100*val_acc/X_valid.shape[0]))\n",
    "\n",
    "    #Plot training loss\n",
    "    plt.title(\"Train vs Validation Loss\")\n",
    "    plt.plot(avg_train_loss_epoch, label=\"Train\")\n",
    "    plt.plot(avg_val_loss_epoch, label=\"Validation\")\n",
    "    plt.xlabel(\"Epoch\")\n",
    "    plt.ylabel(\"Loss\")\n",
    "    plt.legend(loc='best')\n",
    "    plt.show()\n",
    "\n",
    "    plt.title(\"Train vs Validation Accuracy\")\n",
    "    plt.plot(train_acc_epoch, label=\"Train\")\n",
    "    plt.plot(val_acc_epoch, label=\"Validation\")\n",
    "    plt.xlabel(\"Epoch\")\n",
    "    plt.ylabel(\"Accuracy (%)\")\n",
    "    plt.legend(loc='best')\n",
    "    plt.show()"
   ]
  },
  {
   "cell_type": "code",
   "execution_count": null,
   "metadata": {
    "colab": {
     "base_uri": "https://localhost:8080/",
     "height": 909
    },
    "id": "8YqWtV5VYW45",
    "outputId": "3c8fc519-7a45-4f4f-b995-26bd45193765"
   },
   "outputs": [
    {
     "name": "stdout",
     "output_type": "stream",
     "text": [
      "Epoch 0001  Training Loss 2.30 Validation Loss 2.30 Training Accuracy 9.88 Validation Accuracy 10.03\n",
      "Epoch 0002  Training Loss 2.29 Validation Loss 2.29 Training Accuracy 9.93 Validation Accuracy 10.37\n",
      "Epoch 0003  Training Loss 2.29 Validation Loss 2.29 Training Accuracy 10.65 Validation Accuracy 11.20\n",
      "Epoch 0004  Training Loss 2.28 Validation Loss 2.28 Training Accuracy 11.45 Validation Accuracy 11.77\n",
      "Epoch 0005  Training Loss 2.28 Validation Loss 2.27 Training Accuracy 12.12 Validation Accuracy 13.05\n",
      "Epoch 0006  Training Loss 2.27 Validation Loss 2.27 Training Accuracy 12.97 Validation Accuracy 13.12\n",
      "Epoch 0007  Training Loss 2.26 Validation Loss 2.26 Training Accuracy 13.34 Validation Accuracy 13.67\n",
      "Epoch 0008  Training Loss 2.25 Validation Loss 2.24 Training Accuracy 14.01 Validation Accuracy 15.28\n",
      "Epoch 0009  Training Loss 2.24 Validation Loss 2.23 Training Accuracy 15.29 Validation Accuracy 17.05\n",
      "Epoch 0010  Training Loss 2.22 Validation Loss 2.21 Training Accuracy 16.88 Validation Accuracy 17.73\n",
      "Epoch 0011  Training Loss 2.21 Validation Loss 2.20 Training Accuracy 18.09 Validation Accuracy 18.38\n",
      "Epoch 0012  Training Loss 2.19 Validation Loss 2.18 Training Accuracy 18.61 Validation Accuracy 20.47\n",
      "Epoch 0013  Training Loss 2.17 Validation Loss 2.16 Training Accuracy 19.85 Validation Accuracy 20.18\n",
      "Epoch 0014  Training Loss 2.16 Validation Loss 2.14 Training Accuracy 20.27 Validation Accuracy 20.72\n",
      "Epoch 0015  Training Loss 2.14 Validation Loss 2.13 Training Accuracy 20.73 Validation Accuracy 21.32\n",
      "Epoch 0016  Training Loss 2.13 Validation Loss 2.12 Training Accuracy 21.60 Validation Accuracy 20.92\n",
      "Epoch 0017  Training Loss 2.12 Validation Loss 2.11 Training Accuracy 21.39 Validation Accuracy 21.75\n",
      "Epoch 0018  Training Loss 2.11 Validation Loss 2.10 Training Accuracy 22.02 Validation Accuracy 22.15\n",
      "Epoch 0019  Training Loss 2.10 Validation Loss 2.10 Training Accuracy 22.44 Validation Accuracy 22.18\n",
      "Epoch 0020  Training Loss 2.10 Validation Loss 2.09 Training Accuracy 22.78 Validation Accuracy 22.22\n"
     ]
    },
    {
     "data": {
      "image/png": "[encoded data removed]",
      "text/plain": [
       "<Figure size 432x288 with 1 Axes>"
      ]
     },
     "metadata": {
      "needs_background": "light",
      "tags": []
     },
     "output_type": "display_data"
    },
    {
     "data": {
      "image/png": "[encoded data removed]",
      "text/plain": [
       "<Figure size 432x288 with 1 Axes>"
      ]
     },
     "metadata": {
      "needs_background": "light",
      "tags": []
     },
     "output_type": "display_data"
    }
   ],
   "source": [
    "train()"
   ]
  },
  {
   "cell_type": "code",
   "execution_count": null,
   "metadata": {
    "id": "T6pGQ72985B8"
   },
   "outputs": [],
   "source": [
    "# M1 AND TRAINING"
   ]
  },
  {
   "cell_type": "code",
   "execution_count": null,
   "metadata": {
    "id": "-Q3Au31T9Iyy"
   },
   "outputs": [],
   "source": [
    "class ConvNet1(objax.Module):\n",
    "    def __init__(self, number_of_channels = 3, number_of_classes = 10):\n",
    "        self.conv_1 = objax.nn.Sequential([objax.nn.Conv2D(number_of_channels, 32, 2), objax.functional.relu])\n",
    "        self.conv_2 = objax.nn.Sequential([objax.nn.Conv2D(32, 32, 2), objax.functional.relu])\n",
    "        self.linear = objax.nn.Linear(32, number_of_classes)\n",
    "\n",
    "    def __call__(self, x):\n",
    "        x = objax.functional.max_pool_2d(self.conv_1(x), 2, 2)\n",
    "        x = self.conv_2(x)\n",
    "\n",
    "        x = x.mean((2,3)) #<--- global average pooling \n",
    "        x = self.linear(x)\n",
    "        return x\n",
    "\n",
    "#The following line creates the CNN\n",
    "model1 = ConvNet1()"
   ]
  },
  {
   "cell_type": "code",
   "execution_count": null,
   "metadata": {
    "id": "1Klt9YiN9wjd"
   },
   "outputs": [],
   "source": [
    "#Define loss function as averaged value of of cross entropies\n",
    "#labels=targets\n",
    "#logit=output of the Base Model: CNN\n",
    "def loss_function1(x, labels):\n",
    "    logit = model1(x)\n",
    "    return objax.functional.loss.cross_entropy_logits_sparse(logit, labels).mean()\n",
    "\n",
    "#Define a prediction function\n",
    "#softmax(logit)\n",
    "predict1 = objax.Jit(lambda x: objax.functional.softmax(model1(x)), model1.vars()) \n",
    "\n",
    "#Create an object that can be used to calculate the gradient and value of loss_function\n",
    "gv1= objax.GradValues(loss_function1, model1.vars())\n",
    "\n",
    "#Create an object that can be used to provide trainable variables in the model\n",
    "tv1 = objax.ModuleList(objax.TrainRef(x) for x in model1.vars().subset(objax.TrainVar))\n",
    "\n",
    "#Training routine\n",
    "#x:data points, y:label?\n",
    "def train_op1(x, y, learning_rate):\n",
    "    lr = learning_rate\n",
    "    gradient, loss_value = gv1(x, y)   # calculate gradient and loss value \"backprop\"\n",
    "    #next we update the trainable parameter using SGD and similar procedure\n",
    "    for grad, params in zip(gradient, tv1.vars()):\n",
    "        params.assign(params.value - lr*grad)                  \n",
    "    return loss_value                      # return loss value\n",
    "\n",
    "#make train_op (much) faster using JIT compilation\n",
    "train_op1 = objax.Jit(train_op1, gv1.vars() + tv1.vars())"
   ]
  },
  {
   "cell_type": "code",
   "execution_count": null,
   "metadata": {
    "id": "B_eV-b7-98x0"
   },
   "outputs": [],
   "source": [
    "def train1(EPOCHS = 20, BATCH = 32, LEARNING_RATE = 9e-4):\n",
    "    avg_train_loss_epoch = []\n",
    "    avg_val_loss_epoch = []\n",
    "    train_acc_epoch = []\n",
    "    val_acc_epoch = []\n",
    "\n",
    "    for epoch in range(EPOCHS):\n",
    "        avg_train_loss = 0 # (averaged) training loss per batch\n",
    "        avg_val_loss =  0  # (averaged) validation loss per batch\n",
    "        train_acc = 0      # training accuracy per batch\n",
    "        val_acc = 0        # validation accuracy per batch\n",
    "\n",
    "        # shuffle the examples prior to training to remove correlation \n",
    "        train_indices = np.arange(len(X_train)) \n",
    "        np.random.shuffle(train_indices)\n",
    "        for it in range(0, X_train.shape[0], BATCH):\n",
    "            if it+BATCH > X_train.shape[0]: #In case the size of training set is not divisible by BATCH\n",
    "                BATCH = X_train.shape[0]-it\n",
    "            batch = train_indices[np.arange(it, it+BATCH)] #PUT YOUR CODE HERE#\n",
    "            avg_train_loss += float(train_op1(X_train[batch], Y_train[batch], LEARNING_RATE)[0]) * len(batch)\n",
    "            train_prediction = predict1(X_train[batch]).argmax(1)\n",
    "            train_acc += (np.array(train_prediction).flatten() == Y_train[batch]).sum()\n",
    "        train_acc_epoch.append(train_acc/X_train.shape[0])\n",
    "        avg_train_loss_epoch.append(avg_train_loss/X_train.shape[0])\n",
    "\n",
    "        # run validation\n",
    "        val_indices = np.arange(len(X_valid)) \n",
    "        np.random.shuffle(val_indices)    \n",
    "        for it in range(0, X_valid.shape[0], BATCH):\n",
    "            if it+BATCH > X_valid.shape[0]: #In case the size of validation set is not divisible by BATCH\n",
    "                BATCH = X_valid.shape[0]-it\n",
    "            batch = val_indices[np.arange(it, it+BATCH)] #PUT YOUR CODE HERE#\n",
    "            avg_val_loss += float(loss_function1(X_valid[batch], Y_valid[batch])) * len(batch)\n",
    "            val_prediction = predict1(X_valid[batch]).argmax(1)\n",
    "            val_acc += (np.array(val_prediction).flatten() == Y_valid[batch]).sum()\n",
    "        val_acc_epoch.append(val_acc/X_valid.shape[0])\n",
    "        avg_val_loss_epoch.append(avg_val_loss/X_valid.shape[0])\n",
    "\n",
    "        print('Epoch %04d  Training Loss %.2f Validation Loss %.2f Training Accuracy %.2f Validation Accuracy %.2f' % (epoch + 1, avg_train_loss/X_train.shape[0], avg_val_loss/X_valid.shape[0], 100*train_acc/X_train.shape[0], 100*val_acc/X_valid.shape[0]))\n",
    "  \n",
    "    #Plot training loss\n",
    "    plt.title(\"Train vs Validation Loss\")\n",
    "    plt.plot(avg_train_loss_epoch, label=\"Train\")\n",
    "    plt.plot(avg_val_loss_epoch, label=\"Validation\")\n",
    "    plt.xlabel(\"Epoch\")\n",
    "    plt.ylabel(\"Loss\")\n",
    "    plt.legend(loc='best')\n",
    "    plt.show()\n",
    "\n",
    "    plt.title(\"Train vs Validation Accuracy\")\n",
    "    plt.plot(train_acc_epoch, label=\"Train\")\n",
    "    plt.plot(val_acc_epoch, label=\"Validation\")\n",
    "    plt.xlabel(\"Epoch\")\n",
    "    plt.ylabel(\"Accuracy (%)\")\n",
    "    plt.legend(loc='best')\n",
    "    plt.show()"
   ]
  },
  {
   "cell_type": "code",
   "execution_count": null,
   "metadata": {
    "colab": {
     "base_uri": "https://localhost:8080/",
     "height": 909
    },
    "id": "RQ_rEbpB-jTF",
    "outputId": "62d1d5e3-69ea-48bd-e89a-4d5da745735c"
   },
   "outputs": [
    {
     "name": "stdout",
     "output_type": "stream",
     "text": [
      "Epoch 0001  Training Loss 2.30 Validation Loss 2.30 Training Accuracy 13.99 Validation Accuracy 16.58\n",
      "Epoch 0002  Training Loss 2.29 Validation Loss 2.29 Training Accuracy 15.80 Validation Accuracy 14.78\n",
      "Epoch 0003  Training Loss 2.28 Validation Loss 2.27 Training Accuracy 14.63 Validation Accuracy 15.02\n",
      "Epoch 0004  Training Loss 2.27 Validation Loss 2.26 Training Accuracy 16.21 Validation Accuracy 17.92\n",
      "Epoch 0005  Training Loss 2.25 Validation Loss 2.23 Training Accuracy 18.17 Validation Accuracy 18.05\n",
      "Epoch 0006  Training Loss 2.22 Validation Loss 2.21 Training Accuracy 18.73 Validation Accuracy 19.25\n",
      "Epoch 0007  Training Loss 2.20 Validation Loss 2.18 Training Accuracy 19.28 Validation Accuracy 19.28\n",
      "Epoch 0008  Training Loss 2.17 Validation Loss 2.15 Training Accuracy 19.74 Validation Accuracy 19.52\n",
      "Epoch 0009  Training Loss 2.15 Validation Loss 2.13 Training Accuracy 20.19 Validation Accuracy 19.52\n",
      "Epoch 0010  Training Loss 2.13 Validation Loss 2.12 Training Accuracy 20.47 Validation Accuracy 20.38\n",
      "Epoch 0011  Training Loss 2.11 Validation Loss 2.11 Training Accuracy 20.95 Validation Accuracy 20.90\n",
      "Epoch 0012  Training Loss 2.11 Validation Loss 2.10 Training Accuracy 21.43 Validation Accuracy 21.33\n",
      "Epoch 0013  Training Loss 2.10 Validation Loss 2.09 Training Accuracy 21.77 Validation Accuracy 22.12\n",
      "Epoch 0014  Training Loss 2.09 Validation Loss 2.09 Training Accuracy 22.20 Validation Accuracy 22.20\n",
      "Epoch 0015  Training Loss 2.09 Validation Loss 2.08 Training Accuracy 22.44 Validation Accuracy 22.93\n",
      "Epoch 0016  Training Loss 2.08 Validation Loss 2.08 Training Accuracy 23.17 Validation Accuracy 22.12\n",
      "Epoch 0017  Training Loss 2.08 Validation Loss 2.07 Training Accuracy 22.95 Validation Accuracy 24.10\n",
      "Epoch 0018  Training Loss 2.08 Validation Loss 2.07 Training Accuracy 23.76 Validation Accuracy 23.17\n",
      "Epoch 0019  Training Loss 2.07 Validation Loss 2.07 Training Accuracy 23.82 Validation Accuracy 24.08\n",
      "Epoch 0020  Training Loss 2.07 Validation Loss 2.06 Training Accuracy 24.29 Validation Accuracy 23.88\n"
     ]
    },
    {
     "data": {
      "image/png": "[encoded data removed]",
      "text/plain": [
       "<Figure size 432x288 with 1 Axes>"
      ]
     },
     "metadata": {
      "needs_background": "light",
      "tags": []
     },
     "output_type": "display_data"
    },
    {
     "data": {
      "image/png": "[encoded data removed]",
      "text/plain": [
       "<Figure size 432x288 with 1 Axes>"
      ]
     },
     "metadata": {
      "needs_background": "light",
      "tags": []
     },
     "output_type": "display_data"
    }
   ],
   "source": [
    "train1()"
   ]
  },
  {
   "cell_type": "code",
   "execution_count": null,
   "metadata": {
    "id": "9JDGrG4hAdB8"
   },
   "outputs": [],
   "source": [
    "# M2 AND TRAINING"
   ]
  },
  {
   "cell_type": "code",
   "execution_count": null,
   "metadata": {
    "id": "DqxqH3eEAgFS"
   },
   "outputs": [],
   "source": [
    "class ConvNet2(objax.Module):\n",
    "    def __init__(self, number_of_channels = 3, number_of_classes = 10):\n",
    "        self.conv_1 = objax.nn.Sequential([objax.nn.Conv2D(number_of_channels, 16, 2), objax.functional.relu])\n",
    "        self.conv_2 = objax.nn.Sequential([objax.nn.Conv2D(16, 16, 2), objax.functional.relu])\n",
    "        self.conv_3 = objax.nn.Sequential([objax.nn.Conv2D(16, 32, 2), objax.functional.relu])\n",
    "        self.linear = objax.nn.Linear(32, number_of_classes)\n",
    "\n",
    "    def __call__(self, x):\n",
    "        x = objax.functional.max_pool_2d(self.conv_1(x), 2, 2)\n",
    "        x = objax.functional.max_pool_2d(self.conv_2(x), 2, 2)\n",
    "        x = self.conv_3(x)\n",
    "\n",
    "        x = x.mean((2,3)) #<--- global average pooling \n",
    "        x = self.linear(x)\n",
    "        return x\n",
    "\n",
    "#The following line creates the CNN\n",
    "model2 = ConvNet2()"
   ]
  },
  {
   "cell_type": "code",
   "execution_count": null,
   "metadata": {
    "id": "S5EdRJQIBQKz"
   },
   "outputs": [],
   "source": [
    "#Define loss function as averaged value of of cross entropies\n",
    "#labels=targets\n",
    "#logit=output of the Base Model: CNN\n",
    "def loss_function2(x, labels):\n",
    "    logit = model2(x)\n",
    "    return objax.functional.loss.cross_entropy_logits_sparse(logit, labels).mean()\n",
    "\n",
    "#Define a prediction function\n",
    "#softmax(logit)\n",
    "predict2 = objax.Jit(lambda x: objax.functional.softmax(model2(x)), model2.vars()) \n",
    "\n",
    "#Create an object that can be used to calculate the gradient and value of loss_function\n",
    "gv2= objax.GradValues(loss_function2, model2.vars())\n",
    "\n",
    "#Create an object that can be used to provide trainable variables in the model\n",
    "tv2 = objax.ModuleList(objax.TrainRef(x) for x in model2.vars().subset(objax.TrainVar))\n",
    "\n",
    "#Training routine\n",
    "#x:data points, y:label?\n",
    "def train_op2(x, y, learning_rate):\n",
    "    lr = learning_rate\n",
    "    gradient, loss_value = gv2(x, y)   # calculate gradient and loss value \"backprop\"\n",
    "    #next we update the trainable parameter using SGD and similar procedure\n",
    "    for grad, params in zip(gradient, tv2.vars()):\n",
    "        params.assign(params.value - lr*grad)\n",
    "    return loss_value                      # return loss value\n",
    "\n",
    "#make train_op (much) faster using JIT compilation\n",
    "train_op2 = objax.Jit(train_op2, gv2.vars() + tv2.vars())"
   ]
  },
  {
   "cell_type": "code",
   "execution_count": null,
   "metadata": {
    "id": "y_axbpRvBQXi"
   },
   "outputs": [],
   "source": [
    "def train2(EPOCHS = 20, BATCH = 32, LEARNING_RATE = 9e-4):\n",
    "    avg_train_loss_epoch = []\n",
    "    avg_val_loss_epoch = []\n",
    "    train_acc_epoch = []\n",
    "    val_acc_epoch = []\n",
    "\n",
    "    for epoch in range(EPOCHS):\n",
    "    avg_train_loss = 0 # (averaged) training loss per batch\n",
    "    avg_val_loss =  0  # (averaged) validation loss per batch\n",
    "    train_acc = 0      # training accuracy per batch\n",
    "    val_acc = 0        # validation accuracy per batch\n",
    "\n",
    "    # shuffle the examples prior to training to remove correlation \n",
    "    train_indices = np.arange(len(X_train)) \n",
    "    np.random.shuffle(train_indices)\n",
    "    for it in range(0, X_train.shape[0], BATCH):\n",
    "        if it+BATCH > X_train.shape[0]: #In case the size of training set is not divisible by BATCH\n",
    "            BATCH = X_train.shape[0]-it\n",
    "        batch = train_indices[np.arange(it, it+BATCH)] #PUT YOUR CODE HERE#\n",
    "        avg_train_loss += float(train_op2(X_train[batch], Y_train[batch], LEARNING_RATE)[0]) * len(batch)\n",
    "        train_prediction = predict2(X_train[batch]).argmax(1)\n",
    "        train_acc += (np.array(train_prediction).flatten() == Y_train[batch]).sum()\n",
    "    train_acc_epoch.append(train_acc/X_train.shape[0])\n",
    "    avg_train_loss_epoch.append(avg_train_loss/X_train.shape[0])\n",
    "\n",
    "    # run validation\n",
    "    val_indices = np.arange(len(X_valid)) \n",
    "    np.random.shuffle(val_indices)    \n",
    "    for it in range(0, X_valid.shape[0], BATCH):\n",
    "        if it+BATCH > X_valid.shape[0]: #In case the size of validation set is not divisible by BATCH\n",
    "            BATCH = X_valid.shape[0]-it\n",
    "        batch = val_indices[np.arange(it, it+BATCH)] #PUT YOUR CODE HERE#\n",
    "        avg_val_loss += float(loss_function2(X_valid[batch], Y_valid[batch])) * len(batch)\n",
    "        val_prediction = predict2(X_valid[batch]).argmax(1)\n",
    "        val_acc += (np.array(val_prediction).flatten() == Y_valid[batch]).sum()\n",
    "    val_acc_epoch.append(val_acc/X_valid.shape[0])\n",
    "    avg_val_loss_epoch.append(avg_val_loss/X_valid.shape[0])\n",
    "\n",
    "    print('Epoch %04d  Training Loss %.2f Validation Loss %.2f Training Accuracy %.2f Validation Accuracy %.2f' % (epoch + 1, avg_train_loss/X_train.shape[0], avg_val_loss/X_valid.shape[0], 100*train_acc/X_train.shape[0], 100*val_acc/X_valid.shape[0]))\n",
    "  \n",
    "    #Plot training loss\n",
    "    plt.title(\"Train vs Validation Loss\")\n",
    "    plt.plot(avg_train_loss_epoch, label=\"Train\")\n",
    "    plt.plot(avg_val_loss_epoch, label=\"Validation\")\n",
    "    plt.xlabel(\"Epoch\")\n",
    "    plt.ylabel(\"Loss\")\n",
    "    plt.legend(loc='best')\n",
    "    plt.show()\n",
    "\n",
    "    plt.title(\"Train vs Validation Accuracy\")\n",
    "    plt.plot(train_acc_epoch, label=\"Train\")\n",
    "    plt.plot(val_acc_epoch, label=\"Validation\")\n",
    "    plt.xlabel(\"Epoch\")\n",
    "    plt.ylabel(\"Accuracy (%)\")\n",
    "    plt.legend(loc='best')\n",
    "    plt.show()"
   ]
  },
  {
   "cell_type": "code",
   "execution_count": null,
   "metadata": {
    "colab": {
     "base_uri": "https://localhost:8080/",
     "height": 909
    },
    "id": "vbZrUXDUCBTU",
    "outputId": "d041827d-825d-4ca2-979f-0862714e13f4"
   },
   "outputs": [
    {
     "name": "stdout",
     "output_type": "stream",
     "text": [
      "Epoch 0001  Training Loss 2.31 Validation Loss 2.30 Training Accuracy 10.82 Validation Accuracy 11.58\n",
      "Epoch 0002  Training Loss 2.30 Validation Loss 2.30 Training Accuracy 11.88 Validation Accuracy 12.88\n",
      "Epoch 0003  Training Loss 2.30 Validation Loss 2.29 Training Accuracy 14.03 Validation Accuracy 14.10\n",
      "Epoch 0004  Training Loss 2.29 Validation Loss 2.29 Training Accuracy 16.22 Validation Accuracy 17.85\n",
      "Epoch 0005  Training Loss 2.28 Validation Loss 2.28 Training Accuracy 17.85 Validation Accuracy 17.77\n",
      "Epoch 0006  Training Loss 2.27 Validation Loss 2.26 Training Accuracy 17.74 Validation Accuracy 18.33\n",
      "Epoch 0007  Training Loss 2.25 Validation Loss 2.24 Training Accuracy 18.83 Validation Accuracy 18.92\n",
      "Epoch 0008  Training Loss 2.23 Validation Loss 2.20 Training Accuracy 19.28 Validation Accuracy 19.63\n",
      "Epoch 0009  Training Loss 2.18 Validation Loss 2.16 Training Accuracy 20.33 Validation Accuracy 19.92\n",
      "Epoch 0010  Training Loss 2.15 Validation Loss 2.13 Training Accuracy 21.04 Validation Accuracy 21.10\n",
      "Epoch 0011  Training Loss 2.12 Validation Loss 2.11 Training Accuracy 22.28 Validation Accuracy 21.38\n",
      "Epoch 0012  Training Loss 2.11 Validation Loss 2.10 Training Accuracy 22.72 Validation Accuracy 22.52\n",
      "Epoch 0013  Training Loss 2.10 Validation Loss 2.09 Training Accuracy 23.41 Validation Accuracy 23.75\n",
      "Epoch 0014  Training Loss 2.09 Validation Loss 2.08 Training Accuracy 24.02 Validation Accuracy 23.92\n",
      "Epoch 0015  Training Loss 2.08 Validation Loss 2.07 Training Accuracy 24.79 Validation Accuracy 25.22\n",
      "Epoch 0016  Training Loss 2.07 Validation Loss 2.06 Training Accuracy 25.53 Validation Accuracy 25.82\n",
      "Epoch 0017  Training Loss 2.06 Validation Loss 2.05 Training Accuracy 26.53 Validation Accuracy 25.18\n",
      "Epoch 0018  Training Loss 2.05 Validation Loss 2.04 Training Accuracy 27.17 Validation Accuracy 26.70\n",
      "Epoch 0019  Training Loss 2.03 Validation Loss 2.03 Training Accuracy 28.12 Validation Accuracy 24.95\n",
      "Epoch 0020  Training Loss 2.01 Validation Loss 2.00 Training Accuracy 28.99 Validation Accuracy 27.28\n"
     ]
    },
    {
     "data": {
      "image/png": "[encoded data removed]",
      "text/plain": [
       "<Figure size 432x288 with 1 Axes>"
      ]
     },
     "metadata": {
      "needs_background": "light",
      "tags": []
     },
     "output_type": "display_data"
    },
    {
     "data": {
      "image/png": "[encoded data removed]",
      "text/plain": [
       "<Figure size 432x288 with 1 Axes>"
      ]
     },
     "metadata": {
      "needs_background": "light",
      "tags": []
     },
     "output_type": "display_data"
    }
   ],
   "source": [
    "train2()"
   ]
  },
  {
   "cell_type": "code",
   "execution_count": null,
   "metadata": {
    "id": "2yBu-dVDTuS-"
   },
   "outputs": [],
   "source": [
    "# M3 AND TRAINING\n",
    "# M1 increases the number of outputs of conv layer 1 from 16 to 32 and get a slight improvement\n",
    "# M2 increases the number of conv layers from 2 to 3 and get a medium improvement\n",
    "# M3 simply combines M1 and M2 together"
   ]
  },
  {
   "cell_type": "code",
   "execution_count": null,
   "metadata": {
    "id": "rEQpTWm4UCPV"
   },
   "outputs": [],
   "source": [
    "class ConvNet3(objax.Module):\n",
    "    def __init__(self, number_of_channels = 3, number_of_classes = 10):\n",
    "        self.conv_1 = objax.nn.Sequential([objax.nn.Conv2D(number_of_channels, 32, 2), objax.functional.relu])\n",
    "        self.conv_2 = objax.nn.Sequential([objax.nn.Conv2D(32, 32, 2), objax.functional.relu])\n",
    "        self.conv_3 = objax.nn.Sequential([objax.nn.Conv2D(32, 32, 2), objax.functional.relu])\n",
    "        self.linear = objax.nn.Linear(32, number_of_classes)\n",
    "\n",
    "    def __call__(self, x):\n",
    "        x = objax.functional.max_pool_2d(self.conv_1(x), 2, 2)\n",
    "        x = objax.functional.max_pool_2d(self.conv_2(x), 2, 2)\n",
    "        x = self.conv_3(x)\n",
    "\n",
    "        x = x.mean((2,3)) #<--- global average pooling \n",
    "        x = self.linear(x)\n",
    "        return x\n",
    "\n",
    "#The following line creates the CNN\n",
    "model3 = ConvNet3()"
   ]
  },
  {
   "cell_type": "code",
   "execution_count": null,
   "metadata": {
    "id": "t4E7ERnIUIMl"
   },
   "outputs": [],
   "source": [
    "#Define loss function as averaged value of of cross entropies\n",
    "#labels=targets\n",
    "#logit=output of the Base Model: CNN\n",
    "def loss_function3(x, labels):\n",
    "    logit = model3(x)\n",
    "    return objax.functional.loss.cross_entropy_logits_sparse(logit, labels).mean()\n",
    "\n",
    "#Define a prediction function\n",
    "#softmax(logit)\n",
    "predict3 = objax.Jit(lambda x: objax.functional.softmax(model3(x)), model3.vars()) \n",
    "\n",
    "#Create an object that can be used to calculate the gradient and value of loss_function\n",
    "gv3= objax.GradValues(loss_function3, model3.vars())\n",
    "\n",
    "#Create an object that can be used to provide trainable variables in the model\n",
    "tv3 = objax.ModuleList(objax.TrainRef(x) for x in model3.vars().subset(objax.TrainVar))\n",
    "\n",
    "#Training routine\n",
    "#x:data points, y:label?\n",
    "def train_op3(x, y, learning_rate):\n",
    "    lr = learning_rate\n",
    "    gradient, loss_value = gv3(x, y)   # calculate gradient and loss value \"backprop\"\n",
    "    #next we update the trainable parameter using SGD and similar procedure\n",
    "    for grad, params in zip(gradient, tv3.vars()):\n",
    "        params.assign(params.value - lr*grad)\n",
    "    return loss_value                      # return loss value\n",
    "\n",
    "#make train_op (much) faster using JIT compilation\n",
    "train_op3 = objax.Jit(train_op3, gv3.vars() + tv3.vars())"
   ]
  },
  {
   "cell_type": "code",
   "execution_count": null,
   "metadata": {
    "id": "9HLxiuguUKF1"
   },
   "outputs": [],
   "source": [
    "def train3(EPOCHS = 20, BATCH = 32, LEARNING_RATE = 9e-4):\n",
    "    avg_train_loss_epoch = []\n",
    "    avg_val_loss_epoch = []\n",
    "    train_acc_epoch = []\n",
    "    val_acc_epoch = []\n",
    "\n",
    "    for epoch in range(EPOCHS):\n",
    "        avg_train_loss = 0 # (averaged) training loss per batch\n",
    "        avg_val_loss =  0  # (averaged) validation loss per batch\n",
    "        train_acc = 0      # training accuracy per batch\n",
    "        val_acc = 0        # validation accuracy per batch\n",
    "\n",
    "        # shuffle the examples prior to training to remove correlation \n",
    "        train_indices = np.arange(len(X_train)) \n",
    "        np.random.shuffle(train_indices)\n",
    "        for it in range(0, X_train.shape[0], BATCH):\n",
    "            if it+BATCH > X_train.shape[0]: #In case the size of training set is not divisible by BATCH\n",
    "                BATCH = X_train.shape[0]-it\n",
    "            batch = train_indices[np.arange(it, it+BATCH)] #PUT YOUR CODE HERE#\n",
    "            avg_train_loss += float(train_op3(X_train[batch], Y_train[batch], LEARNING_RATE)[0]) * len(batch)\n",
    "            train_prediction = predict3(X_train[batch]).argmax(1)\n",
    "            train_acc += (np.array(train_prediction).flatten() == Y_train[batch]).sum()\n",
    "        train_acc_epoch.append(train_acc/X_train.shape[0])\n",
    "        avg_train_loss_epoch.append(avg_train_loss/X_train.shape[0])\n",
    "\n",
    "        # run validation\n",
    "        val_indices = np.arange(len(X_valid)) \n",
    "        np.random.shuffle(val_indices)    \n",
    "        for it in range(0, X_valid.shape[0], BATCH):\n",
    "            if it+BATCH > X_valid.shape[0]: #In case the size of validation set is not divisible by BATCH\n",
    "                BATCH = X_valid.shape[0]-it\n",
    "            batch = val_indices[np.arange(it, it+BATCH)] #PUT YOUR CODE HERE#\n",
    "            avg_val_loss += float(loss_function3(X_valid[batch], Y_valid[batch])) * len(batch)\n",
    "            val_prediction = predict3(X_valid[batch]).argmax(1)\n",
    "            val_acc += (np.array(val_prediction).flatten() == Y_valid[batch]).sum()\n",
    "        val_acc_epoch.append(val_acc/X_valid.shape[0])\n",
    "        avg_val_loss_epoch.append(avg_val_loss/X_valid.shape[0])\n",
    "\n",
    "        print('Epoch %04d  Training Loss %.2f Validation Loss %.2f Training Accuracy %.2f Validation Accuracy %.2f' % (epoch + 1, avg_train_loss/X_train.shape[0], avg_val_loss/X_valid.shape[0], 100*train_acc/X_train.shape[0], 100*val_acc/X_valid.shape[0]))\n",
    "  \n",
    "    #Plot training loss\n",
    "    plt.title(\"Train vs Validation Loss\")\n",
    "    plt.plot(avg_train_loss_epoch, label=\"Train\")\n",
    "    plt.plot(avg_val_loss_epoch, label=\"Validation\")\n",
    "    plt.xlabel(\"Epoch\")\n",
    "    plt.ylabel(\"Loss\")\n",
    "    plt.legend(loc='best')\n",
    "    plt.show()\n",
    "\n",
    "    plt.title(\"Train vs Validation Accuracy\")\n",
    "    plt.plot(train_acc_epoch, label=\"Train\")\n",
    "    plt.plot(val_acc_epoch, label=\"Validation\")\n",
    "    plt.xlabel(\"Epoch\")\n",
    "    plt.ylabel(\"Accuracy (%)\")\n",
    "    plt.legend(loc='best')\n",
    "    plt.show()"
   ]
  },
  {
   "cell_type": "code",
   "execution_count": null,
   "metadata": {
    "colab": {
     "base_uri": "https://localhost:8080/",
     "height": 909
    },
    "id": "x_mo-F1iUk8e",
    "outputId": "4a0ac08b-215d-4e15-e93e-2f34975eaf2d"
   },
   "outputs": [
    {
     "name": "stdout",
     "output_type": "stream",
     "text": [
      "Epoch 0001  Training Loss 2.31 Validation Loss 2.30 Training Accuracy 10.04 Validation Accuracy 9.63\n",
      "Epoch 0002  Training Loss 2.30 Validation Loss 2.29 Training Accuracy 11.71 Validation Accuracy 13.68\n",
      "Epoch 0003  Training Loss 2.29 Validation Loss 2.28 Training Accuracy 16.04 Validation Accuracy 16.47\n",
      "Epoch 0004  Training Loss 2.27 Validation Loss 2.26 Training Accuracy 16.00 Validation Accuracy 16.68\n",
      "Epoch 0005  Training Loss 2.25 Validation Loss 2.23 Training Accuracy 16.39 Validation Accuracy 14.77\n",
      "Epoch 0006  Training Loss 2.21 Validation Loss 2.19 Training Accuracy 16.30 Validation Accuracy 17.25\n",
      "Epoch 0007  Training Loss 2.16 Validation Loss 2.14 Training Accuracy 19.49 Validation Accuracy 20.48\n",
      "Epoch 0008  Training Loss 2.12 Validation Loss 2.11 Training Accuracy 22.15 Validation Accuracy 22.77\n",
      "Epoch 0009  Training Loss 2.10 Validation Loss 2.09 Training Accuracy 23.48 Validation Accuracy 22.65\n",
      "Epoch 0010  Training Loss 2.09 Validation Loss 2.08 Training Accuracy 24.15 Validation Accuracy 23.88\n",
      "Epoch 0011  Training Loss 2.08 Validation Loss 2.07 Training Accuracy 24.52 Validation Accuracy 24.52\n",
      "Epoch 0012  Training Loss 2.06 Validation Loss 2.06 Training Accuracy 25.17 Validation Accuracy 24.38\n",
      "Epoch 0013  Training Loss 2.05 Validation Loss 2.04 Training Accuracy 25.91 Validation Accuracy 25.88\n",
      "Epoch 0014  Training Loss 2.04 Validation Loss 2.02 Training Accuracy 26.93 Validation Accuracy 27.73\n",
      "Epoch 0015  Training Loss 2.02 Validation Loss 2.00 Training Accuracy 27.70 Validation Accuracy 27.22\n",
      "Epoch 0016  Training Loss 2.00 Validation Loss 1.98 Training Accuracy 28.57 Validation Accuracy 27.30\n",
      "Epoch 0017  Training Loss 1.97 Validation Loss 1.96 Training Accuracy 29.34 Validation Accuracy 28.92\n",
      "Epoch 0018  Training Loss 1.95 Validation Loss 1.93 Training Accuracy 30.22 Validation Accuracy 30.05\n",
      "Epoch 0019  Training Loss 1.92 Validation Loss 1.91 Training Accuracy 31.25 Validation Accuracy 30.37\n",
      "Epoch 0020  Training Loss 1.90 Validation Loss 1.90 Training Accuracy 31.80 Validation Accuracy 30.97\n"
     ]
    },
    {
     "data": {
      "image/png": "[encoded data removed]",
      "text/plain": [
       "<Figure size 432x288 with 1 Axes>"
      ]
     },
     "metadata": {
      "needs_background": "light",
      "tags": []
     },
     "output_type": "display_data"
    },
    {
     "data": {
      "image/png": "[encoded data removed]",
      "text/plain": [
       "<Figure size 432x288 with 1 Axes>"
      ]
     },
     "metadata": {
      "needs_background": "light",
      "tags": []
     },
     "output_type": "display_data"
    }
   ],
   "source": [
    "train3()\n",
    "#It seems that M1+M2 is indeed better than either M1 or M2 alone."
   ]
  },
  {
   "cell_type": "code",
   "execution_count": null,
   "metadata": {
    "colab": {
     "base_uri": "https://localhost:8080/"
    },
    "id": "yn6gq51tFhxj",
    "outputId": "417878fa-8284-4e50-feae-9fa495fa2fa3"
   },
   "outputs": [
    {
     "name": "stdout",
     "output_type": "stream",
     "text": [
      "Test Loss 1.91 Test Accuracy 29.82 \n"
     ]
    }
   ],
   "source": [
    "test_acc = 0\n",
    "avg_test_loss = 0\n",
    "BATCH = 32\n",
    "# run test\n",
    "test_indices = np.arange(len(X_test)) \n",
    "np.random.shuffle(test_indices)    \n",
    "for it in range(0, X_test.shape[0], BATCH):\n",
    "    if it+BATCH > X_test.shape[0]: #In case the size of validation set is not divisible by BATCH\n",
    "        BATCH = X_test.shape[0]-it\n",
    "    batch = test_indices[np.arange(it, it+BATCH)] #PUT YOUR CODE HERE#\n",
    "    avg_test_loss += float(loss_function3(X_test[batch], Y_test[batch])) * len(batch)\n",
    "    test_prediction = predict3(X_test[batch]).argmax(1)\n",
    "    test_acc += (np.array(test_prediction).flatten() == Y_test[batch]).sum()\n",
    "\n",
    "print('Test Loss %.2f Test Accuracy %.2f ' % (avg_test_loss/X_test.shape[0], 100*test_acc/X_test.shape[0]))\n",
    "  "
   ]
  },
  {
   "cell_type": "markdown",
   "metadata": {
    "id": "cno9fjO1o2Jq"
   },
   "source": [
    "##**Part 3. Trying Out a New Dataset**"
   ]
  },
  {
   "cell_type": "code",
   "execution_count": null,
   "metadata": {
    "colab": {
     "base_uri": "https://localhost:8080/"
    },
    "id": "omzn14DpV2qo",
    "outputId": "f3ed2157-e9ab-4eca-df6a-353e2f1c14c8"
   },
   "outputs": [
    {
     "name": "stdout",
     "output_type": "stream",
     "text": [
      "The number of data points is: 27000\n"
     ]
    },
    {
     "name": "stderr",
     "output_type": "stream",
     "text": [
      "/usr/local/lib/python3.6/dist-packages/ipykernel_launcher.py:5: FutureWarning: arrays to stack must be passed as a \"sequence\" type such as list or tuple. Support for non-sequence iterables such as generators is deprecated as of NumPy 1.16 and will raise an error in the future.\n",
      "  \"\"\"\n"
     ]
    },
    {
     "name": "stdout",
     "output_type": "stream",
     "text": [
      "The length of the arr is: 27000\n"
     ]
    }
   ],
   "source": [
    "#.load_data() by default returns a split between training and test set. \n",
    "# We then adjust the training set into a format that can be accepted by our CNN\n",
    "ds = tfds.load('eurosat')\n",
    "print('The number of data points is:', len(ds['train']))\n",
    "arr = np.vstack(tfds.as_numpy(ds['train']))\n",
    "print('The length of the arr is:', len(arr))"
   ]
  },
  {
   "cell_type": "code",
   "execution_count": null,
   "metadata": {
    "colab": {
     "base_uri": "https://localhost:8080/"
    },
    "id": "Geg2lHkANnma",
    "outputId": "41dc9b2c-6dad-49b1-de69-1040dfbee5bb"
   },
   "outputs": [
    {
     "name": "stdout",
     "output_type": "stream",
     "text": [
      "The length of the entire dataset is:, 27000\n",
      "The shape of the training data is: (27000, 64, 64, 3)\n",
      "The shape of the transposed training data is: (27000, 3, 64, 64)\n",
      "The length of X_train is:, 21600\n",
      "The length of X_valid is:, 2700\n",
      "The length of X_test is:, 2700\n"
     ]
    }
   ],
   "source": [
    "XY = np.array(list(map(lambda x: x[0], arr)))\n",
    "X_data = np.array([XY[i]['image'] for i in range(len(arr))])\n",
    "Y_data = np.array([XY[i]['label'] for i in range(len(arr))])\n",
    "\n",
    "print('The length of the entire dataset is:,', len(X_data))\n",
    "N = np.arange(len(X_data))\n",
    "np.random.shuffle(N)\n",
    "X_data = X_data[N]\n",
    "Y_data = Y_data[N]\n",
    "\n",
    "#Very important to transpose the X_data\n",
    "print(\"The shape of the training data is:\", np.shape(X_data))\n",
    "X_data = X_data.transpose((0,3,1,2))/255.0\n",
    "print(\"The shape of the transposed training data is:\", np.shape(X_data))\n",
    "\n",
    "#Next, we partition the randomly shuffled dataset into training, validation and testset according a ratio\n",
    "train_ratio = 0.80\n",
    "valid_ratio = 0.1\n",
    "n_train = int(len(X_data) * train_ratio)\n",
    "n_valid = int(len(X_data) * valid_ratio)\n",
    "\n",
    "X_train, X_valid, X_test = X_data[:n_train], X_data[n_train:n_train+n_valid], X_data[n_train+n_valid:]\n",
    "Y_train, Y_valid, Y_test = Y_data[:n_train], Y_data[n_train:n_train+n_valid], Y_data[n_train+n_valid:]\n",
    "print('The length of X_train is:,', len(X_train))\n",
    "print('The length of X_valid is:,', len(X_valid))\n",
    "print('The length of X_test is:,', len(X_test))"
   ]
  },
  {
   "cell_type": "code",
   "execution_count": null,
   "metadata": {
    "colab": {
     "base_uri": "https://localhost:8080/"
    },
    "id": "eJ9KlydWEfCf",
    "outputId": "54ef5512-2f4e-4fe1-da4b-73399ea826b7"
   },
   "outputs": [
    {
     "name": "stdout",
     "output_type": "stream",
     "text": [
      "The shape of the training data is: (21600, 3, 64, 64)\n",
      "The shape of the training labels is: (21600,)\n"
     ]
    }
   ],
   "source": [
    "print(\"The shape of the training data is:\", np.shape(X_train))\n",
    "print(\"The shape of the training labels is:\", np.shape(Y_train))"
   ]
  },
  {
   "cell_type": "code",
   "execution_count": null,
   "metadata": {
    "colab": {
     "base_uri": "https://localhost:8080/",
     "height": 285
    },
    "id": "Oj7WrMxsEi1S",
    "outputId": "b3362355-8bac-4521-dc66-d0af7ff18ccb"
   },
   "outputs": [
    {
     "data": {
      "text/plain": [
       "<matplotlib.image.AxesImage at 0x7fe436325470>"
      ]
     },
     "execution_count": 38,
     "metadata": {
      "tags": []
     },
     "output_type": "execute_result"
    },
    {
     "data": {
      "image/png": "[encoded data removed]",
      "text/plain": [
       "<Figure size 432x288 with 1 Axes>"
      ]
     },
     "metadata": {
      "needs_background": "light",
      "tags": []
     },
     "output_type": "display_data"
    }
   ],
   "source": [
    "#Let's plot the first image in the training set.\n",
    "plt.imshow(X_train[0].transpose(1,2,0))"
   ]
  },
  {
   "cell_type": "code",
   "execution_count": null,
   "metadata": {
    "id": "RHEsfL7TEjbp"
   },
   "outputs": [],
   "source": [
    "class ConvNet30(objax.Module):\n",
    "    def __init__(self, number_of_channels = 3, number_of_classes = 10):\n",
    "        self.conv_1 = objax.nn.Sequential([objax.nn.Conv2D(number_of_channels, 16, 2), objax.functional.relu])\n",
    "        self.conv_2 = objax.nn.Sequential([objax.nn.Conv2D(16, 32, 2), objax.functional.relu])\n",
    "        self.linear = objax.nn.Linear(32, number_of_classes)\n",
    "\n",
    "    def __call__(self, x):\n",
    "        x = objax.functional.max_pool_2d(self.conv_1(x), 2, 2)\n",
    "        x = self.conv_2(x)\n",
    "\n",
    "        x = x.mean((2,3)) #<--- global average pooling \n",
    "        x = self.linear(x)\n",
    "        return x\n",
    "\n",
    "#The following line creates the CNN\n",
    "model30 = ConvNet30()\n",
    "#You can examine the architecture of our CNN by calling model.vars()"
   ]
  },
  {
   "cell_type": "code",
   "execution_count": null,
   "metadata": {
    "id": "BY41xUJQEs_k"
   },
   "outputs": [],
   "source": [
    "#Define loss function as averaged value of of cross entropies\n",
    "#labels=targets\n",
    "#logit=output of the Base Model: CNN\n",
    "def loss_function30(x, labels):\n",
    "    logit = model30(x)\n",
    "    return objax.functional.loss.cross_entropy_logits_sparse(logit, labels).mean()\n",
    "\n",
    "#Define a prediction function\n",
    "#softmax(logit)\n",
    "predict30 = objax.Jit(lambda x: objax.functional.softmax(model30(x)), model30.vars()) \n",
    "\n",
    "#Create an object that can be used to calculate the gradient and value of loss_function\n",
    "gv30 = objax.GradValues(loss_function30, model30.vars())\n",
    "\n",
    "#Create an object that can be used to provide trainable variables in the model\n",
    "tv30 = objax.ModuleList(objax.TrainRef(x) for x in model30.vars().subset(objax.TrainVar))\n",
    "\n",
    "#Training routine\n",
    "#x:data points, y:label?\n",
    "def train_op30(x, y, learning_rate):\n",
    "    lr = learning_rate\n",
    "    gradient, loss_value = gv30(x, y)   # calculate gradient and loss value \"backprop\"\n",
    "    #next we update the trainable parameter using SGD and similar procedure\n",
    "    for grad, params in zip(gradient, tv30.vars()):\n",
    "        params.assign(params.value - lr*grad)\n",
    "    return loss_value                      # return loss value\n",
    "\n",
    "#make train_op (much) faster using JIT compilation\n",
    "train_op30 = objax.Jit(train_op30, gv30.vars() + tv30.vars())"
   ]
  },
  {
   "cell_type": "code",
   "execution_count": null,
   "metadata": {
    "id": "-rcf__fPFCFH"
   },
   "outputs": [],
   "source": [
    "def train30(EPOCHS = 20, BATCH = 30, LEARNING_RATE = 9e-4):\n",
    "    avg_train_loss_epoch = []\n",
    "    avg_val_loss_epoch = []\n",
    "    train_acc_epoch = []\n",
    "    val_acc_epoch = []\n",
    "\n",
    "    for epoch in range(EPOCHS):\n",
    "        avg_train_loss = 0 # (averaged) training loss per batch\n",
    "        avg_val_loss =  0  # (averaged) validation loss per batch\n",
    "        train_acc = 0      # training accuracy per batch\n",
    "        val_acc = 0        # validation accuracy per batch\n",
    "\n",
    "        # shuffle the examples prior to training to remove correlation \n",
    "        train_indices = np.arange(len(X_train)) \n",
    "        np.random.shuffle(train_indices)\n",
    "        for it in range(0, X_train.shape[0], BATCH):\n",
    "            if it+BATCH > X_train.shape[0]: #In case the size of training set is not divisible by BATCH\n",
    "                BATCH = X_train.shape[0]-it\n",
    "            batch = train_indices[np.arange(it, it+BATCH)] #PUT YOUR CODE HERE#\n",
    "            avg_train_loss += float(train_op30(X_train[batch], Y_train[batch], LEARNING_RATE)[0]) * len(batch)\n",
    "            train_prediction = predict30(X_train[batch]).argmax(1)\n",
    "            train_acc += (np.array(train_prediction).flatten() == Y_train[batch]).sum()\n",
    "        train_acc_epoch.append(train_acc/X_train.shape[0])\n",
    "        avg_train_loss_epoch.append(avg_train_loss/X_train.shape[0])\n",
    "\n",
    "        # run validation\n",
    "        val_indices = np.arange(len(X_valid)) \n",
    "        np.random.shuffle(val_indices)    \n",
    "        for it in range(0, X_valid.shape[0], BATCH):\n",
    "            if it+BATCH > X_valid.shape[0]: #In case the size of validation set is not divisible by BATCH\n",
    "                BATCH = X_valid.shape[0]-it\n",
    "            batch = val_indices[np.arange(it, it+BATCH)] #PUT YOUR CODE HERE#\n",
    "            avg_val_loss += float(loss_function30(X_valid[batch], Y_valid[batch])) * len(batch)\n",
    "            val_prediction = predict30(X_valid[batch]).argmax(1)\n",
    "            val_acc += (np.array(val_prediction).flatten() == Y_valid[batch]).sum()\n",
    "        val_acc_epoch.append(val_acc/X_valid.shape[0])\n",
    "        avg_val_loss_epoch.append(avg_val_loss/X_valid.shape[0])\n",
    "\n",
    "        print('Epoch %04d  Training Loss %.2f Validation Loss %.2f Training Accuracy %.2f Validation Accuracy %.2f' % (epoch + 1, avg_train_loss/X_train.shape[0], avg_val_loss/X_valid.shape[0], 100*train_acc/X_train.shape[0], 100*val_acc/X_valid.shape[0]))\n",
    "  \n",
    "    #Plot training loss\n",
    "    plt.title(\"Train vs Validation Loss\")\n",
    "    plt.plot(avg_train_loss_epoch, label=\"Train\")\n",
    "    plt.plot(avg_val_loss_epoch, label=\"Validation\")\n",
    "    plt.xlabel(\"Epoch\")\n",
    "    plt.ylabel(\"Loss\")\n",
    "    plt.legend(loc='best')\n",
    "    plt.show()\n",
    "\n",
    "    plt.title(\"Train vs Validation Accuracy\")\n",
    "    plt.plot(train_acc_epoch, label=\"Train\")\n",
    "    plt.plot(val_acc_epoch, label=\"Validation\")\n",
    "    plt.xlabel(\"Epoch\")\n",
    "    plt.ylabel(\"Accuracy (%)\")\n",
    "    plt.legend(loc='best')\n",
    "    plt.show()"
   ]
  },
  {
   "cell_type": "code",
   "execution_count": null,
   "metadata": {
    "colab": {
     "base_uri": "https://localhost:8080/",
     "height": 909
    },
    "id": "Ua0O1cslFI7G",
    "outputId": "b43019e8-bdfc-49b6-9220-b438f17e1187"
   },
   "outputs": [
    {
     "name": "stdout",
     "output_type": "stream",
     "text": [
      "Epoch 0001  Training Loss 2.28 Validation Loss 2.25 Training Accuracy 10.79 Validation Accuracy 13.48\n",
      "Epoch 0002  Training Loss 2.25 Validation Loss 2.24 Training Accuracy 10.94 Validation Accuracy 10.41\n",
      "Epoch 0003  Training Loss 2.23 Validation Loss 2.22 Training Accuracy 10.75 Validation Accuracy 10.56\n",
      "Epoch 0004  Training Loss 2.21 Validation Loss 2.20 Training Accuracy 13.00 Validation Accuracy 14.70\n",
      "Epoch 0005  Training Loss 2.20 Validation Loss 2.19 Training Accuracy 16.82 Validation Accuracy 18.67\n",
      "Epoch 0006  Training Loss 2.18 Validation Loss 2.17 Training Accuracy 19.41 Validation Accuracy 20.48\n",
      "Epoch 0007  Training Loss 2.16 Validation Loss 2.15 Training Accuracy 20.87 Validation Accuracy 21.41\n",
      "Epoch 0008  Training Loss 2.14 Validation Loss 2.13 Training Accuracy 21.56 Validation Accuracy 21.78\n",
      "Epoch 0009  Training Loss 2.12 Validation Loss 2.11 Training Accuracy 21.89 Validation Accuracy 21.96\n",
      "Epoch 0010  Training Loss 2.10 Validation Loss 2.09 Training Accuracy 22.22 Validation Accuracy 22.11\n",
      "Epoch 0011  Training Loss 2.08 Validation Loss 2.07 Training Accuracy 22.33 Validation Accuracy 22.30\n",
      "Epoch 0012  Training Loss 2.06 Validation Loss 2.05 Training Accuracy 22.48 Validation Accuracy 22.59\n",
      "Epoch 0013  Training Loss 2.04 Validation Loss 2.03 Training Accuracy 22.74 Validation Accuracy 22.93\n",
      "Epoch 0014  Training Loss 2.02 Validation Loss 2.02 Training Accuracy 23.06 Validation Accuracy 22.74\n",
      "Epoch 0015  Training Loss 2.01 Validation Loss 2.00 Training Accuracy 23.15 Validation Accuracy 22.93\n",
      "Epoch 0016  Training Loss 1.99 Validation Loss 1.98 Training Accuracy 23.23 Validation Accuracy 23.04\n",
      "Epoch 0017  Training Loss 1.97 Validation Loss 1.96 Training Accuracy 23.52 Validation Accuracy 22.56\n",
      "Epoch 0018  Training Loss 1.95 Validation Loss 1.95 Training Accuracy 22.29 Validation Accuracy 22.56\n",
      "Epoch 0019  Training Loss 1.94 Validation Loss 1.93 Training Accuracy 24.38 Validation Accuracy 24.93\n",
      "Epoch 0020  Training Loss 1.92 Validation Loss 1.92 Training Accuracy 25.93 Validation Accuracy 29.48\n"
     ]
    },
    {
     "data": {
      "image/png": "[encoded data removed]",
      "text/plain": [
       "<Figure size 432x288 with 1 Axes>"
      ]
     },
     "metadata": {
      "needs_background": "light",
      "tags": []
     },
     "output_type": "display_data"
    },
    {
     "data": {
      "image/png": "[encoded data removed]",
      "text/plain": [
       "<Figure size 432x288 with 1 Axes>"
      ]
     },
     "metadata": {
      "needs_background": "light",
      "tags": []
     },
     "output_type": "display_data"
    }
   ],
   "source": [
    "train30()"
   ]
  },
  {
   "cell_type": "code",
   "execution_count": null,
   "metadata": {
    "id": "dUyoq1WVRR8e"
   },
   "outputs": [],
   "source": [
    "# TUNE HYPERPARAMETERS\n",
    "# 1. number of conv layers\n",
    "# 2. number of outputs of conv layers"
   ]
  },
  {
   "cell_type": "code",
   "execution_count": null,
   "metadata": {
    "id": "p65QxHUeRU32"
   },
   "outputs": [],
   "source": [
    "class ConvNet31(objax.Module):\n",
    "    def __init__(self, number_of_channels = 3, number_of_classes = 10):\n",
    "        self.conv_1 = objax.nn.Sequential([objax.nn.Conv2D(number_of_channels, 32, 2), objax.functional.relu])\n",
    "        self.conv_2 = objax.nn.Sequential([objax.nn.Conv2D(32, 64, 2), objax.functional.relu])\n",
    "        self.conv_3 = objax.nn.Sequential([objax.nn.Conv2D(64, 32, 2), objax.functional.relu])\n",
    "        self.linear = objax.nn.Linear(32, number_of_classes)\n",
    "\n",
    "    def __call__(self, x):\n",
    "        x = objax.functional.max_pool_2d(self.conv_1(x), 2, 2)\n",
    "        x = objax.functional.max_pool_2d(self.conv_2(x), 2, 2)\n",
    "        x = self.conv_3(x)\n",
    "\n",
    "        x = x.mean((2,3)) #<--- global average pooling \n",
    "        x = self.linear(x)\n",
    "        return x\n",
    "\n",
    "#The following line creates the CNN\n",
    "model31 = ConvNet31()"
   ]
  },
  {
   "cell_type": "code",
   "execution_count": null,
   "metadata": {
    "id": "NhMYw0-MRYWe"
   },
   "outputs": [],
   "source": [
    "#Define loss function as averaged value of of cross entropies\n",
    "#labels=targets\n",
    "#logit=output of the Base Model: CNN\n",
    "def loss_function31(x, labels):\n",
    "    logit = model31(x)\n",
    "    return objax.functional.loss.cross_entropy_logits_sparse(logit, labels).mean()\n",
    "\n",
    "#Define a prediction function\n",
    "#softmax(logit)\n",
    "predict31 = objax.Jit(lambda x: objax.functional.softmax(model31(x)), model31.vars()) \n",
    "\n",
    "#Create an object that can be used to calculate the gradient and value of loss_function\n",
    "gv31 = objax.GradValues(loss_function31, model31.vars())\n",
    "\n",
    "#Create an object that can be used to provide trainable variables in the model\n",
    "tv31 = objax.ModuleList(objax.TrainRef(x) for x in model31.vars().subset(objax.TrainVar))\n",
    "\n",
    "#Training routine\n",
    "#x:data points, y:label?\n",
    "def train_op31(x, y, learning_rate):\n",
    "    lr = learning_rate\n",
    "    gradient, loss_value = gv31(x, y)   # calculate gradient and loss value \"backprop\"\n",
    "    #next we update the trainable parameter using SGD and similar procedure\n",
    "    for grad, params in zip(gradient, tv31.vars()):\n",
    "        params.assign(params.value - lr*grad)\n",
    "    return loss_value                      # return loss value\n",
    "\n",
    "#make train_op (much) faster using JIT compilation\n",
    "train_op31 = objax.Jit(train_op31, gv31.vars() + tv31.vars())"
   ]
  },
  {
   "cell_type": "code",
   "execution_count": null,
   "metadata": {
    "id": "xVAnTHPkRZ1W"
   },
   "outputs": [],
   "source": [
    "def train31(EPOCHS = 20, BATCH = 30, LEARNING_RATE = 9e-4):\n",
    "    avg_train_loss_epoch = []\n",
    "    avg_val_loss_epoch = []\n",
    "    train_acc_epoch = []\n",
    "    val_acc_epoch = []\n",
    "\n",
    "    for epoch in range(EPOCHS):\n",
    "        avg_train_loss = 0 # (averaged) training loss per batch\n",
    "        avg_val_loss =  0  # (averaged) validation loss per batch\n",
    "        train_acc = 0      # training accuracy per batch\n",
    "        val_acc = 0        # validation accuracy per batch\n",
    "\n",
    "        # shuffle the examples prior to training to remove correlation \n",
    "        train_indices = np.arange(len(X_train)) \n",
    "        np.random.shuffle(train_indices)\n",
    "        for it in range(0, X_train.shape[0], BATCH):\n",
    "            if it+BATCH > X_train.shape[0]: #In case the size of training set is not divisible by BATCH\n",
    "                BATCH = X_train.shape[0]-it\n",
    "            batch = train_indices[np.arange(it, it+BATCH)] #PUT YOUR CODE HERE#\n",
    "            avg_train_loss += float(train_op31(X_train[batch], Y_train[batch], LEARNING_RATE)[0]) * len(batch)\n",
    "            train_prediction = predict31(X_train[batch]).argmax(1)\n",
    "            train_acc += (np.array(train_prediction).flatten() == Y_train[batch]).sum()\n",
    "        train_acc_epoch.append(train_acc/X_train.shape[0])\n",
    "        avg_train_loss_epoch.append(avg_train_loss/X_train.shape[0])\n",
    "\n",
    "        # run validation\n",
    "        val_indices = np.arange(len(X_valid)) \n",
    "        np.random.shuffle(val_indices)    \n",
    "        for it in range(0, X_valid.shape[0], BATCH):\n",
    "            if it+BATCH > X_valid.shape[0]: #In case the size of validation set is not divisible by BATCH\n",
    "                BATCH = X_valid.shape[0]-it\n",
    "            batch = val_indices[np.arange(it, it+BATCH)] #PUT YOUR CODE HERE#\n",
    "            avg_val_loss += float(loss_function31(X_valid[batch], Y_valid[batch])) * len(batch)\n",
    "            val_prediction = predict31(X_valid[batch]).argmax(1)\n",
    "            val_acc += (np.array(val_prediction).flatten() == Y_valid[batch]).sum()\n",
    "        val_acc_epoch.append(val_acc/X_valid.shape[0])\n",
    "        avg_val_loss_epoch.append(avg_val_loss/X_valid.shape[0])\n",
    "\n",
    "        print('Epoch %04d  Training Loss %.2f Validation Loss %.2f Training Accuracy %.2f Validation Accuracy %.2f' % (epoch + 1, avg_train_loss/X_train.shape[0], avg_val_loss/X_valid.shape[0], 100*train_acc/X_train.shape[0], 100*val_acc/X_valid.shape[0]))\n",
    "  \n",
    "    #Plot training loss\n",
    "    plt.title(\"Train vs Validation Loss\")\n",
    "    plt.plot(avg_train_loss_epoch, label=\"Train\")\n",
    "    plt.plot(avg_val_loss_epoch, label=\"Validation\")\n",
    "    plt.xlabel(\"Epoch\")\n",
    "    plt.ylabel(\"Loss\")\n",
    "    plt.legend(loc='best')\n",
    "    plt.show()\n",
    "\n",
    "    plt.title(\"Train vs Validation Accuracy\")\n",
    "    plt.plot(train_acc_epoch, label=\"Train\")\n",
    "    plt.plot(val_acc_epoch, label=\"Validation\")\n",
    "    plt.xlabel(\"Epoch\")\n",
    "    plt.ylabel(\"Accuracy (%)\")\n",
    "    plt.legend(loc='best')\n",
    "    plt.show()"
   ]
  },
  {
   "cell_type": "code",
   "execution_count": null,
   "metadata": {
    "colab": {
     "base_uri": "https://localhost:8080/",
     "height": 909
    },
    "id": "RPiMDYQNIOLq",
    "outputId": "55313b0d-13cc-42df-8c7c-530fd6478df1"
   },
   "outputs": [
    {
     "name": "stdout",
     "output_type": "stream",
     "text": [
      "Epoch 0001  Training Loss 2.29 Validation Loss 2.28 Training Accuracy 9.48 Validation Accuracy 11.07\n",
      "Epoch 0002  Training Loss 2.27 Validation Loss 2.26 Training Accuracy 12.61 Validation Accuracy 15.22\n",
      "Epoch 0003  Training Loss 2.25 Validation Loss 2.25 Training Accuracy 17.26 Validation Accuracy 13.78\n",
      "Epoch 0004  Training Loss 2.24 Validation Loss 2.23 Training Accuracy 18.91 Validation Accuracy 23.37\n",
      "Epoch 0005  Training Loss 2.22 Validation Loss 2.21 Training Accuracy 23.68 Validation Accuracy 27.07\n",
      "Epoch 0006  Training Loss 2.20 Validation Loss 2.19 Training Accuracy 26.36 Validation Accuracy 28.52\n",
      "Epoch 0007  Training Loss 2.18 Validation Loss 2.16 Training Accuracy 28.65 Validation Accuracy 30.59\n",
      "Epoch 0008  Training Loss 2.15 Validation Loss 2.14 Training Accuracy 30.15 Validation Accuracy 31.63\n",
      "Epoch 0009  Training Loss 2.12 Validation Loss 2.10 Training Accuracy 30.10 Validation Accuracy 31.48\n",
      "Epoch 0010  Training Loss 2.08 Validation Loss 2.06 Training Accuracy 31.13 Validation Accuracy 32.59\n",
      "Epoch 0011  Training Loss 2.05 Validation Loss 2.03 Training Accuracy 31.65 Validation Accuracy 31.11\n",
      "Epoch 0012  Training Loss 2.01 Validation Loss 1.99 Training Accuracy 31.06 Validation Accuracy 31.67\n",
      "Epoch 0013  Training Loss 1.97 Validation Loss 1.95 Training Accuracy 31.81 Validation Accuracy 30.41\n",
      "Epoch 0014  Training Loss 1.93 Validation Loss 1.91 Training Accuracy 31.74 Validation Accuracy 32.04\n",
      "Epoch 0015  Training Loss 1.89 Validation Loss 1.87 Training Accuracy 32.08 Validation Accuracy 33.19\n",
      "Epoch 0016  Training Loss 1.85 Validation Loss 1.83 Training Accuracy 33.97 Validation Accuracy 37.15\n",
      "Epoch 0017  Training Loss 1.81 Validation Loss 1.80 Training Accuracy 37.86 Validation Accuracy 40.67\n",
      "Epoch 0018  Training Loss 1.78 Validation Loss 1.77 Training Accuracy 41.25 Validation Accuracy 41.15\n",
      "Epoch 0019  Training Loss 1.75 Validation Loss 1.74 Training Accuracy 41.27 Validation Accuracy 38.00\n",
      "Epoch 0020  Training Loss 1.73 Validation Loss 1.72 Training Accuracy 38.80 Validation Accuracy 38.26\n"
     ]
    },
    {
     "data": {
      "image/png": "[encoded data removed]",
      "text/plain": [
       "<Figure size 432x288 with 1 Axes>"
      ]
     },
     "metadata": {
      "needs_background": "light",
      "tags": []
     },
     "output_type": "display_data"
    },
    {
     "data": {
      "image/png": "[encoded data removed]",
      "text/plain": [
       "<Figure size 432x288 with 1 Axes>"
      ]
     },
     "metadata": {
      "needs_background": "light",
      "tags": []
     },
     "output_type": "display_data"
    }
   ],
   "source": [
    "train31()"
   ]
  },
  {
   "cell_type": "code",
   "execution_count": null,
   "metadata": {
    "colab": {
     "base_uri": "https://localhost:8080/"
    },
    "id": "FIP2xANqR0H2",
    "outputId": "55a476ef-b77b-4eb9-ea31-fcfd2d9ef244"
   },
   "outputs": [
    {
     "name": "stdout",
     "output_type": "stream",
     "text": [
      "Test Loss 1.72 Test Accuracy 38.52 \n"
     ]
    }
   ],
   "source": [
    "test_acc = 0\n",
    "avg_test_loss = 0\n",
    "BATCH = 30\n",
    "# run test\n",
    "test_indices = np.arange(len(X_test)) \n",
    "np.random.shuffle(test_indices)    \n",
    "for it in range(0, X_test.shape[0], BATCH):\n",
    "    if it+BATCH > X_test.shape[0]: #In case the size of validation set is not divisible by BATCH\n",
    "        BATCH = X_test.shape[0]-it\n",
    "    batch = test_indices[np.arange(it, it+BATCH)] #PUT YOUR CODE HERE#\n",
    "    avg_test_loss += float(loss_function31(X_test[batch], Y_test[batch])) * len(batch)\n",
    "    test_prediction = predict31(X_test[batch]).argmax(1)\n",
    "    test_acc += (np.array(test_prediction).flatten() == Y_test[batch]).sum()\n",
    "\n",
    "print('Test Loss %.2f Test Accuracy %.2f ' % (avg_test_loss/X_test.shape[0], 100*test_acc/X_test.shape[0]))"
   ]
  },
  {
   "cell_type": "markdown",
   "metadata": {
    "id": "Eye-uBnQWgc8"
   },
   "source": [
    "##**Problem 4. Open-Ended Exploration**"
   ]
  },
  {
   "cell_type": "code",
   "execution_count": null,
   "metadata": {
    "id": "oBqepOJISYd4"
   },
   "outputs": [],
   "source": [
    "# Problem 4\n",
    "# 1. Additional hyperparameter tuning\n",
    "# Increase:\n",
    "# the number of outputs of the first conv layer\n",
    "# the number of conv layers\n",
    "# the learning rate from 9e-4 to 5e-2\n",
    "# achieve 84% validation accuracy and test accuracy"
   ]
  },
  {
   "cell_type": "code",
   "execution_count": null,
   "metadata": {
    "id": "Bkc88AlrSa02"
   },
   "outputs": [],
   "source": [
    "class ConvNet49(objax.Module):\n",
    "    def __init__(self, number_of_channels = 3, number_of_classes = 10):\n",
    "        self.conv_1 = objax.nn.Sequential([objax.nn.Conv2D(number_of_channels, 16, 2), objax.functional.relu])\n",
    "        self.conv_2 = objax.nn.Sequential([objax.nn.Conv2D(16, 32, 2), objax.functional.relu])\n",
    "        self.conv_3 = objax.nn.Sequential([objax.nn.Conv2D(32, 64, 2), objax.functional.relu])\n",
    "        self.conv_4 = objax.nn.Sequential([objax.nn.Conv2D(64, 128, 2), objax.functional.relu])\n",
    "        self.conv_5 = objax.nn.Sequential([objax.nn.Conv2D(128, 32, 2), objax.functional.relu])\n",
    "        self.linear = objax.nn.Linear(32, number_of_classes)\n",
    "\n",
    "    def __call__(self, x):\n",
    "        x = objax.functional.max_pool_2d(self.conv_1(x), 2, 2)\n",
    "        x = objax.functional.max_pool_2d(self.conv_2(x), 2, 2)\n",
    "        x = objax.functional.max_pool_2d(self.conv_3(x), 2, 2)\n",
    "        x = objax.functional.max_pool_2d(self.conv_4(x), 2, 2)\n",
    "        x = self.conv_5(x)\n",
    "\n",
    "        x = x.mean((2,3)) #<--- global average pooling \n",
    "        x = self.linear(x)\n",
    "        return x\n",
    "\n",
    "#The following line creates the CNN\n",
    "model49 = ConvNet49()\n",
    "#You can examine the architecture of our CNN by calling model.vars()"
   ]
  },
  {
   "cell_type": "code",
   "execution_count": null,
   "metadata": {
    "id": "Gz4YIlUASh52"
   },
   "outputs": [],
   "source": [
    "#Define loss function as averaged value of of cross entropies\n",
    "#labels=targets\n",
    "#logit=output of the Base Model: CNN\n",
    "def loss_function49(x, labels):\n",
    "    logit = model49(x)\n",
    "    return objax.functional.loss.cross_entropy_logits_sparse(logit, labels).mean()\n",
    "\n",
    "#Define a prediction function\n",
    "#softmax(logit)\n",
    "predict49 = objax.Jit(lambda x: objax.functional.softmax(model49(x)), model49.vars()) \n",
    "\n",
    "#Create an object that can be used to calculate the gradient and value of loss_function\n",
    "gv49 = objax.GradValues(loss_function49, model49.vars())\n",
    "\n",
    "#Create an object that can be used to provide trainable variables in the model\n",
    "tv49 = objax.ModuleList(objax.TrainRef(x) for x in model49.vars().subset(objax.TrainVar))\n",
    "\n",
    "#Training routine\n",
    "#x:data points, y:label?\n",
    "def train_op49(x, y, learning_rate):\n",
    "    lr = learning_rate\n",
    "    gradient, loss_value = gv49(x, y)   # calculate gradient and loss value \"backprop\"\n",
    "    #next we update the trainable parameter using SGD and similar procedure\n",
    "    for grad, params in zip(gradient, tv49.vars()):\n",
    "        params.assign(params.value - lr*grad)\n",
    "    return loss_value                      # return loss value\n",
    "\n",
    "#make train_op (much) faster using JIT compilation\n",
    "train_op49 = objax.Jit(train_op49, gv49.vars() + tv49.vars())"
   ]
  },
  {
   "cell_type": "code",
   "execution_count": null,
   "metadata": {
    "id": "nFF7TaHFSihm"
   },
   "outputs": [],
   "source": [
    "def train49(EPOCHS = 20, BATCH = 30, LEARNING_RATE = 5e-2):\n",
    "    avg_train_loss_epoch = []\n",
    "    avg_val_loss_epoch = []\n",
    "    train_acc_epoch = []\n",
    "    val_acc_epoch = []\n",
    "\n",
    "    for epoch in range(EPOCHS):\n",
    "        avg_train_loss = 0 # (averaged) training loss per batch\n",
    "        avg_val_loss =  0  # (averaged) validation loss per batch\n",
    "        train_acc = 0      # training accuracy per batch\n",
    "        val_acc = 0        # validation accuracy per batch\n",
    "\n",
    "        # shuffle the examples prior to training to remove correlation \n",
    "        train_indices = np.arange(len(X_train)) \n",
    "        np.random.shuffle(train_indices)\n",
    "        for it in range(0, X_train.shape[0], BATCH):\n",
    "            if it+BATCH > X_train.shape[0]: #In case the size of training set is not divisible by BATCH\n",
    "                BATCH = X_train.shape[0]-it\n",
    "            batch = train_indices[np.arange(it, it+BATCH)] #PUT YOUR CODE HERE#\n",
    "            avg_train_loss += float(train_op49(X_train[batch], Y_train[batch], LEARNING_RATE)[0]) * len(batch)\n",
    "            train_prediction = predict49(X_train[batch]).argmax(1)\n",
    "            train_acc += (np.array(train_prediction).flatten() == Y_train[batch]).sum()\n",
    "        train_acc_epoch.append(train_acc/X_train.shape[0])\n",
    "        avg_train_loss_epoch.append(avg_train_loss/X_train.shape[0])\n",
    "\n",
    "        # run validation\n",
    "        val_indices = np.arange(len(X_valid)) \n",
    "        np.random.shuffle(val_indices)    \n",
    "        for it in range(0, X_valid.shape[0], BATCH):\n",
    "            if it+BATCH > X_valid.shape[0]: #In case the size of validation set is not divisible by BATCH\n",
    "                BATCH = X_valid.shape[0]-it\n",
    "            batch = val_indices[np.arange(it, it+BATCH)] #PUT YOUR CODE HERE#\n",
    "            avg_val_loss += float(loss_function49(X_valid[batch], Y_valid[batch])) * len(batch)\n",
    "            val_prediction = predict49(X_valid[batch]).argmax(1)\n",
    "            val_acc += (np.array(val_prediction).flatten() == Y_valid[batch]).sum()\n",
    "        val_acc_epoch.append(val_acc/X_valid.shape[0])\n",
    "        avg_val_loss_epoch.append(avg_val_loss/X_valid.shape[0])\n",
    "\n",
    "        print('Epoch %04d  Training Loss %.2f Validation Loss %.2f Training Accuracy %.2f Validation Accuracy %.2f' % (epoch + 1, avg_train_loss/X_train.shape[0], avg_val_loss/X_valid.shape[0], 100*train_acc/X_train.shape[0], 100*val_acc/X_valid.shape[0]))\n",
    "  \n",
    "    #Plot training loss\n",
    "    plt.title(\"Train vs Validation Loss\")\n",
    "    plt.plot(avg_train_loss_epoch, label=\"Train\")\n",
    "    plt.plot(avg_val_loss_epoch, label=\"Validation\")\n",
    "    plt.xlabel(\"Epoch\")\n",
    "    plt.ylabel(\"Loss\")\n",
    "    plt.legend(loc='best')\n",
    "    plt.show()\n",
    "\n",
    "    plt.title(\"Train vs Validation Accuracy\")\n",
    "    plt.plot(train_acc_epoch, label=\"Train\")\n",
    "    plt.plot(val_acc_epoch, label=\"Validation\")\n",
    "    plt.xlabel(\"Epoch\")\n",
    "    plt.ylabel(\"Accuracy (%)\")\n",
    "    plt.legend(loc='best')\n",
    "    plt.show()"
   ]
  },
  {
   "cell_type": "code",
   "execution_count": null,
   "metadata": {
    "colab": {
     "base_uri": "https://localhost:8080/",
     "height": 909
    },
    "id": "qUEsiEi_XssX",
    "outputId": "896cc312-11dc-4d4f-b4eb-827f5ca24388"
   },
   "outputs": [
    {
     "name": "stdout",
     "output_type": "stream",
     "text": [
      "Epoch 0001  Training Loss 1.84 Validation Loss 1.61 Training Accuracy 34.82 Validation Accuracy 35.56\n",
      "Epoch 0002  Training Loss 1.42 Validation Loss 1.16 Training Accuracy 54.04 Validation Accuracy 60.44\n",
      "Epoch 0003  Training Loss 1.16 Validation Loss 1.41 Training Accuracy 65.45 Validation Accuracy 47.93\n",
      "Epoch 0004  Training Loss 0.98 Validation Loss 1.00 Training Accuracy 72.29 Validation Accuracy 61.70\n",
      "Epoch 0005  Training Loss 0.86 Validation Loss 0.71 Training Accuracy 76.85 Validation Accuracy 74.93\n",
      "Epoch 0006  Training Loss 0.78 Validation Loss 0.66 Training Accuracy 79.90 Validation Accuracy 75.74\n",
      "Epoch 0007  Training Loss 0.71 Validation Loss 0.84 Training Accuracy 82.78 Validation Accuracy 67.85\n",
      "Epoch 0008  Training Loss 0.66 Validation Loss 0.58 Training Accuracy 84.94 Validation Accuracy 79.11\n",
      "Epoch 0009  Training Loss 0.61 Validation Loss 0.73 Training Accuracy 86.85 Validation Accuracy 73.48\n",
      "Epoch 0010  Training Loss 0.56 Validation Loss 0.55 Training Accuracy 88.75 Validation Accuracy 80.30\n",
      "Epoch 0011  Training Loss 0.52 Validation Loss 0.61 Training Accuracy 90.23 Validation Accuracy 78.33\n",
      "Epoch 0012  Training Loss 0.49 Validation Loss 0.49 Training Accuracy 91.09 Validation Accuracy 81.81\n",
      "Epoch 0013  Training Loss 0.46 Validation Loss 0.45 Training Accuracy 92.31 Validation Accuracy 83.15\n",
      "Epoch 0014  Training Loss 0.43 Validation Loss 0.43 Training Accuracy 93.25 Validation Accuracy 83.59\n",
      "Epoch 0015  Training Loss 0.41 Validation Loss 0.47 Training Accuracy 93.86 Validation Accuracy 82.44\n",
      "Epoch 0016  Training Loss 0.38 Validation Loss 0.43 Training Accuracy 94.56 Validation Accuracy 84.81\n",
      "Epoch 0017  Training Loss 0.36 Validation Loss 0.68 Training Accuracy 95.17 Validation Accuracy 77.19\n",
      "Epoch 0018  Training Loss 0.36 Validation Loss 0.33 Training Accuracy 95.36 Validation Accuracy 88.52\n",
      "Epoch 0019  Training Loss 0.33 Validation Loss 0.45 Training Accuracy 96.13 Validation Accuracy 84.37\n",
      "Epoch 0020  Training Loss 0.31 Validation Loss 0.42 Training Accuracy 96.52 Validation Accuracy 85.26\n"
     ]
    },
    {
     "data": {
      "image/png": "[encoded data removed]",
      "text/plain": [
       "<Figure size 432x288 with 1 Axes>"
      ]
     },
     "metadata": {
      "needs_background": "light",
      "tags": []
     },
     "output_type": "display_data"
    },
    {
     "data": {
      "image/png": "[encoded data removed]",
      "text/plain": [
       "<Figure size 432x288 with 1 Axes>"
      ]
     },
     "metadata": {
      "needs_background": "light",
      "tags": []
     },
     "output_type": "display_data"
    }
   ],
   "source": [
    "train49()"
   ]
  },
  {
   "cell_type": "code",
   "execution_count": null,
   "metadata": {
    "colab": {
     "base_uri": "https://localhost:8080/"
    },
    "id": "UlSufVtkKg87",
    "outputId": "d1b7c5f8-56a5-45a9-dfdb-9d96d0a0911c"
   },
   "outputs": [
    {
     "name": "stdout",
     "output_type": "stream",
     "text": [
      "Test Loss 0.38 Test Accuracy 86.59 \n"
     ]
    }
   ],
   "source": [
    "test_acc = 0\n",
    "avg_test_loss = 0\n",
    "BATCH = 30\n",
    "# run test\n",
    "test_indices = np.arange(len(X_test)) \n",
    "np.random.shuffle(test_indices)    \n",
    "for it in range(0, X_test.shape[0], BATCH):\n",
    "    if it+BATCH > X_test.shape[0]: #In case the size of validation set is not divisible by BATCH\n",
    "        BATCH = X_test.shape[0]-it\n",
    "    batch = test_indices[np.arange(it, it+BATCH)] #PUT YOUR CODE HERE#\n",
    "    avg_test_loss += float(loss_function49(X_test[batch], Y_test[batch])) * len(batch)\n",
    "    test_prediction = predict49(X_test[batch]).argmax(1)\n",
    "    test_acc += (np.array(test_prediction).flatten() == Y_test[batch]).sum()\n",
    "\n",
    "print('Test Loss %.2f Test Accuracy %.2f ' % (avg_test_loss/X_test.shape[0], 100*test_acc/X_test.shape[0]))"
   ]
  },
  {
   "cell_type": "code",
   "execution_count": null,
   "metadata": {
    "id": "MJzpw528XuX2"
   },
   "outputs": [],
   "source": [
    "# 2. How do hyperparameters interact ? \n",
    "\n",
    "# Two hyperparameters that can independently increases the performance each, \n",
    "# and also increase the performance when used together"
   ]
  },
  {
   "cell_type": "code",
   "execution_count": null,
   "metadata": {
    "id": "gYWwkKtCe1hn"
   },
   "outputs": [],
   "source": [
    "# Only increase the learning rate from 9e-4 to 9e-3"
   ]
  },
  {
   "cell_type": "code",
   "execution_count": null,
   "metadata": {
    "id": "5rsjsAx4dG1P"
   },
   "outputs": [],
   "source": [
    "class ConvNet41(objax.Module):\n",
    "    def __init__(self, number_of_channels = 3, number_of_classes = 10):\n",
    "        self.conv_1 = objax.nn.Sequential([objax.nn.Conv2D(number_of_channels, 16, 2), objax.functional.relu])\n",
    "        self.conv_2 = objax.nn.Sequential([objax.nn.Conv2D(16, 32, 2), objax.functional.relu])\n",
    "        self.linear = objax.nn.Linear(32, number_of_classes)\n",
    "\n",
    "    def __call__(self, x):\n",
    "        x = objax.functional.max_pool_2d(self.conv_1(x), 2, 2)\n",
    "        x = self.conv_2(x)\n",
    "\n",
    "        x = x.mean((2,3)) #<--- global average pooling \n",
    "        x = self.linear(x)\n",
    "        return x\n",
    "\n",
    "#The following line creates the CNN\n",
    "model41 = ConvNet41()\n",
    "#You can examine the architecture of our CNN by calling model.vars()"
   ]
  },
  {
   "cell_type": "code",
   "execution_count": null,
   "metadata": {
    "id": "XDw2d6J6dXfo"
   },
   "outputs": [],
   "source": [
    "#Define loss function as averaged value of of cross entropies\n",
    "#labels=targets\n",
    "#logit=output of the Base Model: CNN\n",
    "def loss_function41(x, labels):\n",
    "    logit = model41(x)\n",
    "    return objax.functional.loss.cross_entropy_logits_sparse(logit, labels).mean()\n",
    "\n",
    "#Define a prediction function\n",
    "#softmax(logit)\n",
    "predict41 = objax.Jit(lambda x: objax.functional.softmax(model41(x)), model41.vars()) \n",
    "\n",
    "#Create an object that can be used to calculate the gradient and value of loss_function\n",
    "gv41 = objax.GradValues(loss_function41, model41.vars())\n",
    "\n",
    "#Create an object that can be used to provide trainable variables in the model\n",
    "tv41 = objax.ModuleList(objax.TrainRef(x) for x in model41.vars().subset(objax.TrainVar))\n",
    "\n",
    "#Training routine\n",
    "#x:data points, y:label?\n",
    "def train_op41(x, y, learning_rate):\n",
    "    lr = learning_rate\n",
    "    gradient, loss_value = gv41(x, y)   # calculate gradient and loss value \"backprop\"\n",
    "    #next we update the trainable parameter using SGD and similar procedure\n",
    "    for grad, params in zip(gradient, tv41.vars()):\n",
    "        params.assign(params.value - lr*grad)\n",
    "    return loss_value                      # return loss value\n",
    "\n",
    "#make train_op (much) faster using JIT compilation\n",
    "train_op41 = objax.Jit(train_op41, gv41.vars() + tv41.vars())"
   ]
  },
  {
   "cell_type": "code",
   "execution_count": null,
   "metadata": {
    "id": "UHd-Mlb7elyu"
   },
   "outputs": [],
   "source": [
    "def train41(EPOCHS = 20, BATCH = 30, LEARNING_RATE = 9e-3):\n",
    "    avg_train_loss_epoch = []\n",
    "    avg_val_loss_epoch = []\n",
    "    train_acc_epoch = []\n",
    "    val_acc_epoch = []\n",
    "\n",
    "    for epoch in range(EPOCHS):\n",
    "        avg_train_loss = 0 # (averaged) training loss per batch\n",
    "        avg_val_loss =  0  # (averaged) validation loss per batch\n",
    "        train_acc = 0      # training accuracy per batch\n",
    "        val_acc = 0        # validation accuracy per batch\n",
    "\n",
    "        # shuffle the examples prior to training to remove correlation \n",
    "        train_indices = np.arange(len(X_train)) \n",
    "        np.random.shuffle(train_indices)\n",
    "        for it in range(0, X_train.shape[0], BATCH):\n",
    "            if it+BATCH > X_train.shape[0]: #In case the size of training set is not divisible by BATCH\n",
    "                BATCH = X_train.shape[0]-it\n",
    "            batch = train_indices[np.arange(it, it+BATCH)] #PUT YOUR CODE HERE#\n",
    "            avg_train_loss += float(train_op41(X_train[batch], Y_train[batch], LEARNING_RATE)[0]) * len(batch)\n",
    "            train_prediction = predict41(X_train[batch]).argmax(1)\n",
    "            train_acc += (np.array(train_prediction).flatten() == Y_train[batch]).sum()\n",
    "        train_acc_epoch.append(train_acc/X_train.shape[0])\n",
    "        avg_train_loss_epoch.append(avg_train_loss/X_train.shape[0])\n",
    "\n",
    "        # run validation\n",
    "        val_indices = np.arange(len(X_valid)) \n",
    "        np.random.shuffle(val_indices)    \n",
    "        for it in range(0, X_valid.shape[0], BATCH):\n",
    "            if it+BATCH > X_valid.shape[0]: #In case the size of validation set is not divisible by BATCH\n",
    "                BATCH = X_valid.shape[0]-it\n",
    "            batch = val_indices[np.arange(it, it+BATCH)] #PUT YOUR CODE HERE#\n",
    "            avg_val_loss += float(loss_function41(X_valid[batch], Y_valid[batch])) * len(batch)\n",
    "            val_prediction = predict41(X_valid[batch]).argmax(1)\n",
    "            val_acc += (np.array(val_prediction).flatten() == Y_valid[batch]).sum()\n",
    "        val_acc_epoch.append(val_acc/X_valid.shape[0])\n",
    "        avg_val_loss_epoch.append(avg_val_loss/X_valid.shape[0])\n",
    "\n",
    "        print('Epoch %04d  Training Loss %.2f Validation Loss %.2f Training Accuracy %.2f Validation Accuracy %.2f' % (epoch + 1, avg_train_loss/X_train.shape[0], avg_val_loss/X_valid.shape[0], 100*train_acc/X_train.shape[0], 100*val_acc/X_valid.shape[0]))\n",
    "  \n",
    "    #Plot training loss\n",
    "    plt.title(\"Train vs Validation Loss\")\n",
    "    plt.plot(avg_train_loss_epoch, label=\"Train\")\n",
    "    plt.plot(avg_val_loss_epoch, label=\"Validation\")\n",
    "    plt.xlabel(\"Epoch\")\n",
    "    plt.ylabel(\"Loss\")\n",
    "    plt.legend(loc='best')\n",
    "    plt.show()\n",
    "\n",
    "    plt.title(\"Train vs Validation Accuracy\")\n",
    "    plt.plot(train_acc_epoch, label=\"Train\")\n",
    "    plt.plot(val_acc_epoch, label=\"Validation\")\n",
    "    plt.xlabel(\"Epoch\")\n",
    "    plt.ylabel(\"Accuracy (%)\")\n",
    "    plt.legend(loc='best')\n",
    "    plt.show()"
   ]
  },
  {
   "cell_type": "code",
   "execution_count": null,
   "metadata": {
    "colab": {
     "base_uri": "https://localhost:8080/",
     "height": 909
    },
    "id": "PwEaJ8weeqes",
    "outputId": "f963b67b-2378-427b-d8d3-1f0deb3da192"
   },
   "outputs": [
    {
     "name": "stdout",
     "output_type": "stream",
     "text": [
      "Epoch 0001  Training Loss 2.21 Validation Loss 2.13 Training Accuracy 19.38 Validation Accuracy 31.93\n",
      "Epoch 0002  Training Loss 2.05 Validation Loss 1.97 Training Accuracy 30.77 Validation Accuracy 28.22\n",
      "Epoch 0003  Training Loss 1.90 Validation Loss 1.85 Training Accuracy 30.34 Validation Accuracy 28.59\n",
      "Epoch 0004  Training Loss 1.81 Validation Loss 1.79 Training Accuracy 33.13 Validation Accuracy 34.93\n",
      "Epoch 0005  Training Loss 1.76 Validation Loss 1.75 Training Accuracy 35.35 Validation Accuracy 36.22\n",
      "Epoch 0006  Training Loss 1.73 Validation Loss 1.72 Training Accuracy 37.38 Validation Accuracy 34.89\n",
      "Epoch 0007  Training Loss 1.69 Validation Loss 1.69 Training Accuracy 38.81 Validation Accuracy 34.89\n",
      "Epoch 0008  Training Loss 1.65 Validation Loss 1.63 Training Accuracy 40.83 Validation Accuracy 40.37\n",
      "Epoch 0009  Training Loss 1.60 Validation Loss 1.59 Training Accuracy 42.64 Validation Accuracy 42.00\n",
      "Epoch 0010  Training Loss 1.56 Validation Loss 1.55 Training Accuracy 44.51 Validation Accuracy 41.96\n",
      "Epoch 0011  Training Loss 1.52 Validation Loss 1.51 Training Accuracy 46.23 Validation Accuracy 44.96\n",
      "Epoch 0012  Training Loss 1.49 Validation Loss 1.47 Training Accuracy 48.65 Validation Accuracy 48.11\n",
      "Epoch 0013  Training Loss 1.45 Validation Loss 1.46 Training Accuracy 50.69 Validation Accuracy 47.56\n",
      "Epoch 0014  Training Loss 1.43 Validation Loss 1.42 Training Accuracy 52.38 Validation Accuracy 51.78\n",
      "Epoch 0015  Training Loss 1.40 Validation Loss 1.39 Training Accuracy 53.80 Validation Accuracy 50.44\n",
      "Epoch 0016  Training Loss 1.37 Validation Loss 1.37 Training Accuracy 54.88 Validation Accuracy 50.04\n",
      "Epoch 0017  Training Loss 1.34 Validation Loss 1.34 Training Accuracy 55.90 Validation Accuracy 55.15\n",
      "Epoch 0018  Training Loss 1.31 Validation Loss 1.31 Training Accuracy 56.96 Validation Accuracy 56.52\n",
      "Epoch 0019  Training Loss 1.29 Validation Loss 1.28 Training Accuracy 57.96 Validation Accuracy 58.78\n",
      "Epoch 0020  Training Loss 1.26 Validation Loss 1.27 Training Accuracy 59.29 Validation Accuracy 58.44\n"
     ]
    },
    {
     "data": {
      "image/png": "[encoded data removed]",
      "text/plain": [
       "<Figure size 432x288 with 1 Axes>"
      ]
     },
     "metadata": {
      "needs_background": "light",
      "tags": []
     },
     "output_type": "display_data"
    },
    {
     "data": {
      "image/png": "[encoded data removed]",
      "text/plain": [
       "<Figure size 432x288 with 1 Axes>"
      ]
     },
     "metadata": {
      "needs_background": "light",
      "tags": []
     },
     "output_type": "display_data"
    }
   ],
   "source": [
    "train41()"
   ]
  },
  {
   "cell_type": "code",
   "execution_count": null,
   "metadata": {
    "id": "zJURQWypf5aG"
   },
   "outputs": [],
   "source": [
    "# Only increase the number of conv layers from 2 to 3"
   ]
  },
  {
   "cell_type": "code",
   "execution_count": null,
   "metadata": {
    "id": "gKXn5F24er-F"
   },
   "outputs": [],
   "source": [
    "class ConvNet42(objax.Module):\n",
    "    def __init__(self, number_of_channels = 3, number_of_classes = 10):\n",
    "        self.conv_1 = objax.nn.Sequential([objax.nn.Conv2D(number_of_channels, 16, 2), objax.functional.relu])\n",
    "        self.conv_2 = objax.nn.Sequential([objax.nn.Conv2D(16, 32, 2), objax.functional.relu])\n",
    "        self.conv_3 = objax.nn.Sequential([objax.nn.Conv2D(32, 32, 2), objax.functional.relu])\n",
    "        self.linear = objax.nn.Linear(32, number_of_classes)\n",
    "\n",
    "    def __call__(self, x):\n",
    "        x = objax.functional.max_pool_2d(self.conv_1(x), 2, 2)\n",
    "        x = objax.functional.max_pool_2d(self.conv_2(x), 2, 2)\n",
    "        x = self.conv_3(x)\n",
    "\n",
    "        x = x.mean((2,3)) #<--- global average pooling \n",
    "        x = self.linear(x)\n",
    "        return x\n",
    "\n",
    "#The following line creates the CNN\n",
    "model42 = ConvNet42()\n",
    "#You can examine the architecture of our CNN by calling model.vars()"
   ]
  },
  {
   "cell_type": "code",
   "execution_count": null,
   "metadata": {
    "id": "_OqqzC90gI8M"
   },
   "outputs": [],
   "source": [
    "#Define loss function as averaged value of of cross entropies\n",
    "#labels=targets\n",
    "#logit=output of the Base Model: CNN\n",
    "def loss_function42(x, labels):\n",
    "    logit = model42(x)\n",
    "    return objax.functional.loss.cross_entropy_logits_sparse(logit, labels).mean()\n",
    "\n",
    "#Define a prediction function\n",
    "#softmax(logit)\n",
    "predict42 = objax.Jit(lambda x: objax.functional.softmax(model42(x)), model42.vars()) \n",
    "\n",
    "#Create an object that can be used to calculate the gradient and value of loss_function\n",
    "gv42 = objax.GradValues(loss_function42, model42.vars())\n",
    "\n",
    "#Create an object that can be used to provide trainable variables in the model\n",
    "tv42 = objax.ModuleList(objax.TrainRef(x) for x in model42.vars().subset(objax.TrainVar))\n",
    "\n",
    "#Training routine\n",
    "#x:data points, y:label?\n",
    "def train_op42(x, y, learning_rate):\n",
    "    lr = learning_rate\n",
    "    gradient, loss_value = gv42(x, y)   # calculate gradient and loss value \"backprop\"\n",
    "    #next we update the trainable parameter using SGD and similar procedure\n",
    "    for grad, params in zip(gradient, tv42.vars()):\n",
    "        params.assign(params.value - lr*grad)\n",
    "    return loss_value                      # return loss value\n",
    "\n",
    "#make train_op (much) faster using JIT compilation\n",
    "train_op42 = objax.Jit(train_op42, gv42.vars() + tv42.vars())"
   ]
  },
  {
   "cell_type": "code",
   "execution_count": null,
   "metadata": {
    "id": "rkjJlaECgTku"
   },
   "outputs": [],
   "source": [
    "def train42(EPOCHS = 20, BATCH = 30, LEARNING_RATE = 9e-4):\n",
    "    avg_train_loss_epoch = []\n",
    "    avg_val_loss_epoch = []\n",
    "    train_acc_epoch = []\n",
    "    val_acc_epoch = []\n",
    "\n",
    "    for epoch in range(EPOCHS):\n",
    "        avg_train_loss = 0 # (averaged) training loss per batch\n",
    "        avg_val_loss =  0  # (averaged) validation loss per batch\n",
    "        train_acc = 0      # training accuracy per batch\n",
    "        val_acc = 0        # validation accuracy per batch\n",
    "\n",
    "        # shuffle the examples prior to training to remove correlation \n",
    "        train_indices = np.arange(len(X_train)) \n",
    "        np.random.shuffle(train_indices)\n",
    "        for it in range(0, X_train.shape[0], BATCH):\n",
    "            if it+BATCH > X_train.shape[0]: #In case the size of training set is not divisible by BATCH\n",
    "                BATCH = X_train.shape[0]-it\n",
    "            batch = train_indices[np.arange(it, it+BATCH)] #PUT YOUR CODE HERE#\n",
    "            avg_train_loss += float(train_op42(X_train[batch], Y_train[batch], LEARNING_RATE)[0]) * len(batch)\n",
    "            train_prediction = predict42(X_train[batch]).argmax(1)\n",
    "            train_acc += (np.array(train_prediction).flatten() == Y_train[batch]).sum()\n",
    "        train_acc_epoch.append(train_acc/X_train.shape[0])\n",
    "        avg_train_loss_epoch.append(avg_train_loss/X_train.shape[0])\n",
    "\n",
    "        # run validation\n",
    "        val_indices = np.arange(len(X_valid)) \n",
    "        np.random.shuffle(val_indices)    \n",
    "        for it in range(0, X_valid.shape[0], BATCH):\n",
    "            if it+BATCH > X_valid.shape[0]: #In case the size of validation set is not divisible by BATCH\n",
    "                BATCH = X_valid.shape[0]-it\n",
    "            batch = val_indices[np.arange(it, it+BATCH)] #PUT YOUR CODE HERE#\n",
    "            avg_val_loss += float(loss_function42(X_valid[batch], Y_valid[batch])) * len(batch)\n",
    "            val_prediction = predict42(X_valid[batch]).argmax(1)\n",
    "            val_acc += (np.array(val_prediction).flatten() == Y_valid[batch]).sum()\n",
    "        val_acc_epoch.append(val_acc/X_valid.shape[0])\n",
    "        avg_val_loss_epoch.append(avg_val_loss/X_valid.shape[0])\n",
    "\n",
    "        print('Epoch %04d  Training Loss %.2f Validation Loss %.2f Training Accuracy %.2f Validation Accuracy %.2f' % (epoch + 1, avg_train_loss/X_train.shape[0], avg_val_loss/X_valid.shape[0], 100*train_acc/X_train.shape[0], 100*val_acc/X_valid.shape[0]))\n",
    "  \n",
    "    #Plot training loss\n",
    "    plt.title(\"Train vs Validation Loss\")\n",
    "    plt.plot(avg_train_loss_epoch, label=\"Train\")\n",
    "    plt.plot(avg_val_loss_epoch, label=\"Validation\")\n",
    "    plt.xlabel(\"Epoch\")\n",
    "    plt.ylabel(\"Loss\")\n",
    "    plt.legend(loc='best')\n",
    "    plt.show()\n",
    "\n",
    "    plt.title(\"Train vs Validation Accuracy\")\n",
    "    plt.plot(train_acc_epoch, label=\"Train\")\n",
    "    plt.plot(val_acc_epoch, label=\"Validation\")\n",
    "    plt.xlabel(\"Epoch\")\n",
    "    plt.ylabel(\"Accuracy (%)\")\n",
    "    plt.legend(loc='best')\n",
    "    plt.show()"
   ]
  },
  {
   "cell_type": "code",
   "execution_count": null,
   "metadata": {
    "colab": {
     "base_uri": "https://localhost:8080/",
     "height": 909
    },
    "id": "93NmuQh1gYz_",
    "outputId": "bef61a5c-89fb-486f-dda7-b9b2d5c8821a"
   },
   "outputs": [
    {
     "name": "stdout",
     "output_type": "stream",
     "text": [
      "Epoch 0001  Training Loss 2.31 Validation Loss 2.30 Training Accuracy 8.95 Validation Accuracy 9.44\n",
      "Epoch 0002  Training Loss 2.28 Validation Loss 2.28 Training Accuracy 11.89 Validation Accuracy 14.96\n",
      "Epoch 0003  Training Loss 2.27 Validation Loss 2.26 Training Accuracy 17.61 Validation Accuracy 18.78\n",
      "Epoch 0004  Training Loss 2.25 Validation Loss 2.25 Training Accuracy 21.16 Validation Accuracy 24.41\n",
      "Epoch 0005  Training Loss 2.23 Validation Loss 2.23 Training Accuracy 25.26 Validation Accuracy 26.04\n",
      "Epoch 0006  Training Loss 2.21 Validation Loss 2.20 Training Accuracy 25.31 Validation Accuracy 25.07\n",
      "Epoch 0007  Training Loss 2.19 Validation Loss 2.17 Training Accuracy 25.41 Validation Accuracy 22.59\n",
      "Epoch 0008  Training Loss 2.16 Validation Loss 2.14 Training Accuracy 24.64 Validation Accuracy 26.07\n",
      "Epoch 0009  Training Loss 2.11 Validation Loss 2.09 Training Accuracy 27.11 Validation Accuracy 29.48\n",
      "Epoch 0010  Training Loss 2.07 Validation Loss 2.05 Training Accuracy 29.79 Validation Accuracy 34.19\n",
      "Epoch 0011  Training Loss 2.02 Validation Loss 2.00 Training Accuracy 33.94 Validation Accuracy 33.04\n",
      "Epoch 0012  Training Loss 1.98 Validation Loss 1.96 Training Accuracy 32.87 Validation Accuracy 31.30\n",
      "Epoch 0013  Training Loss 1.94 Validation Loss 1.92 Training Accuracy 33.82 Validation Accuracy 33.59\n",
      "Epoch 0014  Training Loss 1.90 Validation Loss 1.88 Training Accuracy 35.16 Validation Accuracy 32.70\n",
      "Epoch 0015  Training Loss 1.86 Validation Loss 1.85 Training Accuracy 33.68 Validation Accuracy 32.41\n",
      "Epoch 0016  Training Loss 1.84 Validation Loss 1.82 Training Accuracy 32.37 Validation Accuracy 33.59\n",
      "Epoch 0017  Training Loss 1.81 Validation Loss 1.80 Training Accuracy 32.99 Validation Accuracy 34.00\n",
      "Epoch 0018  Training Loss 1.79 Validation Loss 1.78 Training Accuracy 33.67 Validation Accuracy 34.00\n",
      "Epoch 0019  Training Loss 1.77 Validation Loss 1.77 Training Accuracy 33.46 Validation Accuracy 33.19\n",
      "Epoch 0020  Training Loss 1.76 Validation Loss 1.76 Training Accuracy 34.13 Validation Accuracy 34.52\n"
     ]
    },
    {
     "data": {
      "image/png": "[encoded data removed]",
      "text/plain": [
       "<Figure size 432x288 with 1 Axes>"
      ]
     },
     "metadata": {
      "needs_background": "light",
      "tags": []
     },
     "output_type": "display_data"
    },
    {
     "data": {
      "image/png": "[encoded data removed]",
      "text/plain": [
       "<Figure size 432x288 with 1 Axes>"
      ]
     },
     "metadata": {
      "needs_background": "light",
      "tags": []
     },
     "output_type": "display_data"
    }
   ],
   "source": [
    "train42()"
   ]
  },
  {
   "cell_type": "code",
   "execution_count": null,
   "metadata": {
    "id": "6P6y1MaagaMH"
   },
   "outputs": [],
   "source": [
    "# COMBINE HYPERPARAMETERS\n",
    "# 1. increase the learning rate from 9e-4 to 9e-3\n",
    "# 2. increase the number of conv layers from 2 to 3"
   ]
  },
  {
   "cell_type": "code",
   "execution_count": null,
   "metadata": {
    "id": "WOAp19bcgv22"
   },
   "outputs": [],
   "source": [
    "class ConvNet43(objax.Module):\n",
    "    def __init__(self, number_of_channels = 3, number_of_classes = 10):\n",
    "        self.conv_1 = objax.nn.Sequential([objax.nn.Conv2D(number_of_channels, 16, 2), objax.functional.relu])\n",
    "        self.conv_2 = objax.nn.Sequential([objax.nn.Conv2D(16, 32, 2), objax.functional.relu])\n",
    "        self.conv_3 = objax.nn.Sequential([objax.nn.Conv2D(32, 32, 2), objax.functional.relu])\n",
    "        self.linear = objax.nn.Linear(32, number_of_classes)\n",
    "\n",
    "    def __call__(self, x):\n",
    "        x = objax.functional.max_pool_2d(self.conv_1(x), 2, 2)\n",
    "        x = objax.functional.max_pool_2d(self.conv_2(x), 2, 2)\n",
    "        x = self.conv_3(x)\n",
    "\n",
    "        x = x.mean((2,3)) #<--- global average pooling \n",
    "        x = self.linear(x)\n",
    "        return x\n",
    "\n",
    "#The following line creates the CNN\n",
    "model43 = ConvNet43()\n",
    "#You can examine the architecture of our CNN by calling model.vars()"
   ]
  },
  {
   "cell_type": "code",
   "execution_count": null,
   "metadata": {
    "id": "l3fmPbHkhNdA"
   },
   "outputs": [],
   "source": [
    "#Define loss function as averaged value of of cross entropies\n",
    "#labels=targets\n",
    "#logit=output of the Base Model: CNN\n",
    "def loss_function43(x, labels):\n",
    "    logit = model43(x)\n",
    "    return objax.functional.loss.cross_entropy_logits_sparse(logit, labels).mean()\n",
    "\n",
    "#Define a prediction function\n",
    "#softmax(logit)\n",
    "predict43 = objax.Jit(lambda x: objax.functional.softmax(model43(x)), model43.vars()) \n",
    "\n",
    "#Create an object that can be used to calculate the gradient and value of loss_function\n",
    "gv43 = objax.GradValues(loss_function43, model43.vars())\n",
    "\n",
    "#Create an object that can be used to provide trainable variables in the model\n",
    "tv43 = objax.ModuleList(objax.TrainRef(x) for x in model43.vars().subset(objax.TrainVar))\n",
    "\n",
    "#Training routine\n",
    "#x:data points, y:label?\n",
    "def train_op43(x, y, learning_rate):\n",
    "    lr = learning_rate\n",
    "    gradient, loss_value = gv43(x, y)   # calculate gradient and loss value \"backprop\"\n",
    "    #next we update the trainable parameter using SGD and similar procedure\n",
    "    for grad, params in zip(gradient, tv43.vars()):\n",
    "        params.assign(params.value - lr*grad)\n",
    "    return loss_value                      # return loss value\n",
    "\n",
    "#make train_op (much) faster using JIT compilation\n",
    "train_op43 = objax.Jit(train_op43, gv43.vars() + tv43.vars())"
   ]
  },
  {
   "cell_type": "code",
   "execution_count": null,
   "metadata": {
    "id": "A3QmCIFlhZaw"
   },
   "outputs": [],
   "source": [
    "def train43(EPOCHS = 20, BATCH = 30, LEARNING_RATE = 9e-3):\n",
    "    avg_train_loss_epoch = []\n",
    "    avg_val_loss_epoch = []\n",
    "    train_acc_epoch = []\n",
    "    val_acc_epoch = []\n",
    "\n",
    "    for epoch in range(EPOCHS):\n",
    "        avg_train_loss = 0 # (averaged) training loss per batch\n",
    "        avg_val_loss =  0  # (averaged) validation loss per batch\n",
    "        train_acc = 0      # training accuracy per batch\n",
    "        val_acc = 0        # validation accuracy per batch\n",
    "\n",
    "        # shuffle the examples prior to training to remove correlation \n",
    "        train_indices = np.arange(len(X_train)) \n",
    "        np.random.shuffle(train_indices)\n",
    "        for it in range(0, X_train.shape[0], BATCH):\n",
    "            if it+BATCH > X_train.shape[0]: #In case the size of training set is not divisible by BATCH\n",
    "                BATCH = X_train.shape[0]-it\n",
    "            batch = train_indices[np.arange(it, it+BATCH)] #PUT YOUR CODE HERE#\n",
    "            avg_train_loss += float(train_op43(X_train[batch], Y_train[batch], LEARNING_RATE)[0]) * len(batch)\n",
    "            train_prediction = predict43(X_train[batch]).argmax(1)\n",
    "            train_acc += (np.array(train_prediction).flatten() == Y_train[batch]).sum()\n",
    "        train_acc_epoch.append(train_acc/X_train.shape[0])\n",
    "        avg_train_loss_epoch.append(avg_train_loss/X_train.shape[0])\n",
    "\n",
    "        # run validation\n",
    "        val_indices = np.arange(len(X_valid)) \n",
    "        np.random.shuffle(val_indices)    \n",
    "        for it in range(0, X_valid.shape[0], BATCH):\n",
    "            if it+BATCH > X_valid.shape[0]: #In case the size of validation set is not divisible by BATCH\n",
    "                BATCH = X_valid.shape[0]-it\n",
    "            batch = val_indices[np.arange(it, it+BATCH)] #PUT YOUR CODE HERE#\n",
    "            avg_val_loss += float(loss_function43(X_valid[batch], Y_valid[batch])) * len(batch)\n",
    "            val_prediction = predict43(X_valid[batch]).argmax(1)\n",
    "            val_acc += (np.array(val_prediction).flatten() == Y_valid[batch]).sum()\n",
    "        val_acc_epoch.append(val_acc/X_valid.shape[0])\n",
    "        avg_val_loss_epoch.append(avg_val_loss/X_valid.shape[0])\n",
    "\n",
    "        print('Epoch %04d  Training Loss %.2f Validation Loss %.2f Training Accuracy %.2f Validation Accuracy %.2f' % (epoch + 1, avg_train_loss/X_train.shape[0], avg_val_loss/X_valid.shape[0], 100*train_acc/X_train.shape[0], 100*val_acc/X_valid.shape[0]))\n",
    "  \n",
    "    #Plot training loss\n",
    "    plt.title(\"Train vs Validation Loss\")\n",
    "    plt.plot(avg_train_loss_epoch, label=\"Train\")\n",
    "    plt.plot(avg_val_loss_epoch, label=\"Validation\")\n",
    "    plt.xlabel(\"Epoch\")\n",
    "    plt.ylabel(\"Loss\")\n",
    "    plt.legend(loc='best')\n",
    "    plt.show()\n",
    "\n",
    "    plt.title(\"Train vs Validation Accuracy\")\n",
    "    plt.plot(train_acc_epoch, label=\"Train\")\n",
    "    plt.plot(val_acc_epoch, label=\"Validation\")\n",
    "    plt.xlabel(\"Epoch\")\n",
    "    plt.ylabel(\"Accuracy (%)\")\n",
    "    plt.legend(loc='best')\n",
    "    plt.show()"
   ]
  },
  {
   "cell_type": "code",
   "execution_count": null,
   "metadata": {
    "colab": {
     "base_uri": "https://localhost:8080/",
     "height": 909
    },
    "id": "egNDWSWbhfjd",
    "outputId": "9d13b6ad-a2aa-43c9-96c2-ec7faa7de3d2"
   },
   "outputs": [
    {
     "name": "stdout",
     "output_type": "stream",
     "text": [
      "Epoch 0001  Training Loss 2.21 Validation Loss 2.09 Training Accuracy 19.44 Validation Accuracy 29.63\n",
      "Epoch 0002  Training Loss 1.99 Validation Loss 1.90 Training Accuracy 26.60 Validation Accuracy 25.89\n",
      "Epoch 0003  Training Loss 1.82 Validation Loss 1.77 Training Accuracy 31.13 Validation Accuracy 29.19\n",
      "Epoch 0004  Training Loss 1.74 Validation Loss 1.72 Training Accuracy 35.55 Validation Accuracy 34.22\n",
      "Epoch 0005  Training Loss 1.66 Validation Loss 1.60 Training Accuracy 39.66 Validation Accuracy 39.93\n",
      "Epoch 0006  Training Loss 1.56 Validation Loss 1.51 Training Accuracy 43.02 Validation Accuracy 41.56\n",
      "Epoch 0007  Training Loss 1.50 Validation Loss 1.62 Training Accuracy 46.02 Validation Accuracy 38.70\n",
      "Epoch 0008  Training Loss 1.47 Validation Loss 1.52 Training Accuracy 49.15 Validation Accuracy 46.93\n",
      "Epoch 0009  Training Loss 1.44 Validation Loss 1.41 Training Accuracy 52.10 Validation Accuracy 46.30\n",
      "Epoch 0010  Training Loss 1.41 Validation Loss 1.41 Training Accuracy 53.15 Validation Accuracy 48.89\n",
      "Epoch 0011  Training Loss 1.38 Validation Loss 1.36 Training Accuracy 54.21 Validation Accuracy 50.89\n",
      "Epoch 0012  Training Loss 1.36 Validation Loss 1.33 Training Accuracy 55.52 Validation Accuracy 53.44\n",
      "Epoch 0013  Training Loss 1.33 Validation Loss 1.30 Training Accuracy 56.43 Validation Accuracy 55.37\n",
      "Epoch 0014  Training Loss 1.31 Validation Loss 1.26 Training Accuracy 57.38 Validation Accuracy 55.56\n",
      "Epoch 0015  Training Loss 1.28 Validation Loss 1.26 Training Accuracy 59.19 Validation Accuracy 55.30\n",
      "Epoch 0016  Training Loss 1.24 Validation Loss 1.20 Training Accuracy 61.38 Validation Accuracy 59.19\n",
      "Epoch 0017  Training Loss 1.20 Validation Loss 1.20 Training Accuracy 62.72 Validation Accuracy 56.93\n",
      "Epoch 0018  Training Loss 1.17 Validation Loss 1.12 Training Accuracy 64.44 Validation Accuracy 59.26\n",
      "Epoch 0019  Training Loss 1.14 Validation Loss 1.07 Training Accuracy 65.18 Validation Accuracy 63.89\n",
      "Epoch 0020  Training Loss 1.10 Validation Loss 1.12 Training Accuracy 66.81 Validation Accuracy 62.44\n"
     ]
    },
    {
     "data": {
      "image/png": "[encoded data removed]",
      "text/plain": [
       "<Figure size 432x288 with 1 Axes>"
      ]
     },
     "metadata": {
      "needs_background": "light",
      "tags": []
     },
     "output_type": "display_data"
    },
    {
     "data": {
      "image/png": "[encoded data removed]",
      "text/plain": [
       "<Figure size 432x288 with 1 Axes>"
      ]
     },
     "metadata": {
      "needs_background": "light",
      "tags": []
     },
     "output_type": "display_data"
    }
   ],
   "source": [
    "train43()"
   ]
  }
 ],
 "metadata": {
  "accelerator": "GPU",
  "colab": {
   "collapsed_sections": [],
   "name": "Copy of Introduction to ML - Fall 2020 - Prof. Papernot - Assignment 4",
   "provenance": []
  },
  "kernelspec": {
   "display_name": "Python 3",
   "language": "python",
   "name": "python3"
  },
  "language_info": {
   "codemirror_mode": {
    "name": "ipython",
    "version": 3
   },
   "file_extension": ".py",
   "mimetype": "text/x-python",
   "name": "python",
   "nbconvert_exporter": "python",
   "pygments_lexer": "ipython3",
   "version": "3.7.9"
  }
 },
 "nbformat": 4,
 "nbformat_minor": 1
}
